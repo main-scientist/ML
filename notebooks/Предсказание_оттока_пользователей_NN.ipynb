{
 "cells": [
  {
   "cell_type": "markdown",
   "id": "0b567a1f-df7f-4bb1-9c64-0a14c9704ba4",
   "metadata": {},
   "source": [
    "* ROC-AUC Scope\n",
    "  > LogReg with scaler = 0.83222\n",
    "\n",
    "  > NN with RElu and 2 Linear layer and scaler = 0.83159"
   ]
  },
  {
   "cell_type": "code",
   "execution_count": 98,
   "id": "992e99a7-6495-4209-84ba-e83850c8af03",
   "metadata": {},
   "outputs": [],
   "source": [
    "import numpy as np\n",
    "import pandas as pd\n",
    "import matplotlib.pyplot as plt\n",
    "import torch\n",
    "import torch.nn as nn \n",
    "import torch.nn.functional as F\n",
    "import torch.optim as optim\n",
    "from torch.utils.data import DataLoader, TensorDataset\n",
    "from sklearn.model_selection import train_test_split\n",
    "from sklearn.preprocessing import StandardScaler\n",
    "from sklearn.metrics import roc_auc_score"
   ]
  },
  {
   "cell_type": "code",
   "execution_count": 82,
   "id": "35a24958-5f61-4b89-98e4-5f509b9344a4",
   "metadata": {},
   "outputs": [],
   "source": [
    "df_train = pd.read_csv('./data/train.csv')\n",
    "df_test = pd.read_csv('./data/test.csv')\n",
    "df_sub = pd.read_csv('./data/submission.csv')\n",
    "df_train['TotalSpent'] = pd.to_numeric(df_train['TotalSpent'], errors='coerce')\n",
    "df_train['TotalSpent'] = df_train['TotalSpent'].fillna(df_train['TotalSpent'].mean())"
   ]
  },
  {
   "cell_type": "markdown",
   "id": "0ac97833-e9e7-4237-9157-cadba22dad72",
   "metadata": {},
   "source": [
    "#### Preparation df_train"
   ]
  },
  {
   "cell_type": "code",
   "execution_count": 83,
   "id": "b98e6337-180e-4260-916e-544f256fc438",
   "metadata": {},
   "outputs": [],
   "source": [
    "df_train['TotalSpent'] = pd.to_numeric(df_train['TotalSpent'], errors='coerce')\n",
    "df_train['TotalSpent'] = df_train['TotalSpent'].fillna(df_train['TotalSpent'].mean())\n",
    "\n",
    "encoded_Sex = pd.get_dummies(df_train[['Sex']], drop_first=True)\n",
    "encoded_HasPartner = pd.get_dummies(df_train[['HasPartner']], drop_first=True)\n",
    "encoded_HasChild = pd.get_dummies(df_train[['HasChild']], drop_first=True)\n",
    "encoded_HasPhoneService = pd.get_dummies(df_train[['HasPhoneService']], drop_first=True)\n",
    "\n",
    "encoded_HasMultiplePhoneNumbers = pd.get_dummies(df_train[['HasMultiplePhoneNumbers']], drop_first=True)\n",
    "encoded_HasMultiplePhoneNumbers = encoded_HasMultiplePhoneNumbers.drop('HasMultiplePhoneNumbers_No phone service', axis=1)\n",
    "\n",
    "encoded_HasInternetService = pd.get_dummies(df_train[['HasInternetService']], drop_first=True)\n",
    "encoded_HasInternetService = encoded_HasInternetService.drop('HasInternetService_No', axis=1)\n",
    "\n",
    "encoded_HasOnlineBackup = pd.get_dummies(df_train[['HasOnlineBackup']], drop_first=True)\n",
    "encoded_HasOnlineBackup = encoded_HasOnlineBackup.drop('HasOnlineBackup_No internet service', axis=1)\n",
    "\n",
    "encoded_HasDeviceProtection = pd.get_dummies(df_train[['HasDeviceProtection']], drop_first=True)\n",
    "encoded_HasDeviceProtection = encoded_HasDeviceProtection.drop('HasDeviceProtection_No internet service', axis=1)\n",
    "\n",
    "encoded_HasTechSupportAccess = pd.get_dummies(df_train[['HasTechSupportAccess']], drop_first=True)\n",
    "encoded_HasTechSupportAccess = encoded_HasTechSupportAccess.drop('HasTechSupportAccess_No internet service', axis=1)\n",
    "\n",
    "encoded_HasOnlineTV = pd.get_dummies(df_train[['HasOnlineTV']], drop_first=True)\n",
    "encoded_HasOnlineTV = encoded_HasOnlineTV.drop('HasOnlineTV_No internet service', axis=1)\n",
    "\n",
    "encoded_HasMovieSubscription = pd.get_dummies(df_train[['HasMovieSubscription']], drop_first=True)\n",
    "encoded_HasMovieSubscription = encoded_HasMovieSubscription.drop('HasMovieSubscription_No internet service', axis=1)\n",
    "\n",
    "encoded_HasContractPhone = pd.get_dummies(df_train[['HasContractPhone']], drop_first=True)\n",
    "encoded_IsBillingPaperless = pd.get_dummies(df_train[['IsBillingPaperless']], drop_first=True)\n",
    "encoded_PaymentMethod = pd.get_dummies(df_train[['PaymentMethod']], drop_first=True)\n",
    "\n",
    "scaler = StandardScaler()\n",
    "df_train['ClientPeriod'] = scaler.fit_transform(df_train['ClientPeriod'].values.reshape(-1, 1))\n",
    "df_train['MonthlySpending'] = scaler.fit_transform(df_train['MonthlySpending'].values.reshape(-1, 1))\n",
    "df_train['TotalSpent'] = scaler.fit_transform(df_train['TotalSpent'].values.reshape(-1, 1))\n",
    "\n",
    "X = df_train[['ClientPeriod',\t'MonthlySpending',\t'TotalSpent']]\n",
    "y = df_train['Churn']\n",
    "X = pd.concat([X, encoded_Sex, encoded_HasPartner, encoded_HasChild, encoded_HasPhoneService, encoded_HasMultiplePhoneNumbers, encoded_HasInternetService, encoded_HasOnlineBackup,\n",
    "              encoded_HasDeviceProtection, encoded_HasTechSupportAccess, encoded_HasOnlineTV, encoded_HasMovieSubscription, encoded_HasContractPhone, encoded_IsBillingPaperless, encoded_PaymentMethod], axis=1)\n",
    "X[['Sex_Male',\n",
    "       'HasPartner_Yes', 'HasChild_Yes', 'HasPhoneService_Yes',\n",
    "       'HasMultiplePhoneNumbers_Yes', 'HasInternetService_Fiber optic',\n",
    "       'HasOnlineBackup_Yes', 'HasDeviceProtection_Yes',\n",
    "       'HasTechSupportAccess_Yes', 'HasOnlineTV_Yes',\n",
    "       'HasMovieSubscription_Yes', 'HasContractPhone_One year',\n",
    "       'HasContractPhone_Two year', 'IsBillingPaperless_Yes',\n",
    "       'PaymentMethod_Credit card (automatic)',\n",
    "       'PaymentMethod_Electronic check', 'PaymentMethod_Mailed check']] = X[['Sex_Male',\n",
    "       'HasPartner_Yes', 'HasChild_Yes', 'HasPhoneService_Yes',\n",
    "       'HasMultiplePhoneNumbers_Yes', 'HasInternetService_Fiber optic',\n",
    "       'HasOnlineBackup_Yes', 'HasDeviceProtection_Yes',\n",
    "       'HasTechSupportAccess_Yes', 'HasOnlineTV_Yes',\n",
    "       'HasMovieSubscription_Yes', 'HasContractPhone_One year',\n",
    "       'HasContractPhone_Two year', 'IsBillingPaperless_Yes',\n",
    "       'PaymentMethod_Credit card (automatic)',\n",
    "       'PaymentMethod_Electronic check', 'PaymentMethod_Mailed check']].astype(int)"
   ]
  },
  {
   "cell_type": "code",
   "execution_count": 84,
   "id": "4ac8b10d-3aeb-421b-9108-6ff4626463bc",
   "metadata": {},
   "outputs": [],
   "source": [
    "X_train, X_test, y_train, y_test = train_test_split(X, y, test_size=0.3, random_state=0)"
   ]
  },
  {
   "cell_type": "markdown",
   "id": "3606cf98-0afd-4e60-9a4c-2f90ef56a206",
   "metadata": {},
   "source": [
    "#### LogReg"
   ]
  },
  {
   "cell_type": "code",
   "execution_count": 86,
   "id": "31204e17-8f9a-4460-920f-2091c36e8c76",
   "metadata": {},
   "outputs": [
    {
     "name": "stdout",
     "output_type": "stream",
     "text": [
      "ROC-AUC = 0.8322246858832224\n"
     ]
    }
   ],
   "source": [
    "from sklearn.linear_model import LogisticRegression\n",
    "clf = LogisticRegression()\n",
    "clf.fit(X_train, y_train)\n",
    "y_pred_proba = clf.predict_proba(X_test)[:, 1]\n",
    "print(f'ROC-AUC = {roc_auc_score(y_test, y_pred_proba)}')"
   ]
  },
  {
   "cell_type": "markdown",
   "id": "facf5d81-ec35-4626-a679-5318b70763ba",
   "metadata": {},
   "source": [
    "#### Neural Network"
   ]
  },
  {
   "cell_type": "code",
   "execution_count": 89,
   "id": "a9ab32f7-a815-4fd9-a9db-a514fe67758d",
   "metadata": {},
   "outputs": [],
   "source": [
    "X_train_tensor = torch.tensor(X_train.values, dtype=torch.float32)\n",
    "y_train_tensor = torch.tensor(y_train.values, dtype=torch.long)\n",
    "X_test_tensor = torch.tensor(X_test.values, dtype=torch.float32)\n",
    "y_test_tensor = torch.tensor(y_test.values, dtype=torch.long)"
   ]
  },
  {
   "cell_type": "code",
   "execution_count": 172,
   "id": "eabe674d-cae8-4e75-8924-d07a3916f7c1",
   "metadata": {},
   "outputs": [],
   "source": [
    "dataset = TensorDataset(X_train_tensor, y_train_tensor)\n",
    "batch_size = 50\n",
    "train_loader = DataLoader(dataset, batch_size, shuffle=True)"
   ]
  },
  {
   "cell_type": "code",
   "execution_count": 241,
   "id": "e90141fc-ab13-4ae6-b515-9696bdc705fe",
   "metadata": {},
   "outputs": [],
   "source": [
    "class Clf_NN(nn.Module):\n",
    "    def __init__(self):\n",
    "        super(Clf_NN, self).__init__()\n",
    "        self.fc1 = nn.Linear(in_features=20, out_features=14)\n",
    "        self.fc2 = nn.Linear(in_features=14, out_features=6)\n",
    "        self.fc3 = nn.Linear(in_features=6, out_features=2)\n",
    "        \n",
    "    def forward(self, x):\n",
    "        x = self.fc1(x)\n",
    "        x = F.tanh(x)\n",
    "        x = self.fc2(x)\n",
    "        x = F.tanh(x)\n",
    "        x = self.fc3(x)\n",
    "        return x\n",
    "\n",
    "model = Clf_NN()\n",
    "criterion = nn.CrossEntropyLoss()\n",
    "optimizer = optim.Adam(model.parameters(), lr=0.001)\n",
    "scheduler = torch.optim.lr_scheduler.ExponentialLR(optimizer, gamma=0.9)"
   ]
  },
  {
   "cell_type": "code",
   "execution_count": 245,
   "id": "5bdf317a-aad6-43b0-976d-84559cd2ee7b",
   "metadata": {},
   "outputs": [
    {
     "name": "stdout",
     "output_type": "stream",
     "text": [
      "Epoch: 1,  lr = 0.00019,  loss = 0.48977\n",
      "Epoch: 2,  lr = 0.00017,  loss = 0.41323\n",
      "Epoch: 3,  lr = 0.00015,  loss = 0.35298\n",
      "Epoch: 4,  lr = 0.00014,  loss = 0.32939\n",
      "Epoch: 5,  lr = 0.00012,  loss = 0.46675\n"
     ]
    }
   ],
   "source": [
    "model.train()\n",
    "history_loss = []\n",
    "num_epoch = 5\n",
    "for epoch in range(num_epoch):\n",
    "    for x, y in train_loader:\n",
    "        optimizer.zero_grad()\n",
    "        y_pred = model(x)\n",
    "        loss = criterion(y_pred, y)\n",
    "        loss.backward()\n",
    "        optimizer.step()\n",
    "    scheduler.step()\n",
    "    _loss = loss.detach().numpy().tolist()\n",
    "    history_loss.append(_loss)\n",
    "    # print(f'Epoch: {epoch+1},  loss = {round(_loss, 5)}')\n",
    "    print(f'Epoch: {epoch+1},  lr = {round(scheduler.get_last_lr()[0], 5)},  loss = {round(_loss, 5)}')"
   ]
  },
  {
   "cell_type": "code",
   "execution_count": 246,
   "id": "6801d1b9-61eb-43dd-8291-691493a0086b",
   "metadata": {},
   "outputs": [
    {
     "name": "stdout",
     "output_type": "stream",
     "text": [
      "ROC-AUC = 0.8313390422305477\n"
     ]
    }
   ],
   "source": [
    "with torch.no_grad():\n",
    "    model.eval()\n",
    "    y_pred = model(X_test_tensor)\n",
    "    probabilities = F.softmax(y_pred, dim=1)\n",
    "#     _, predicted = torch.max(probabilities, 1)\n",
    "# predicted_classes = predicted.numpy()\n",
    "print(f'ROC-AUC = {roc_auc_score(y_test, probabilities[:, 1].numpy())}')"
   ]
  },
  {
   "cell_type": "code",
   "execution_count": null,
   "id": "3c14cbe9-77c0-42d9-932e-02fb1e2cb542",
   "metadata": {},
   "outputs": [],
   "source": []
  }
 ],
 "metadata": {
  "kernelspec": {
   "display_name": "Python 3 (ipykernel)",
   "language": "python",
   "name": "python3"
  },
  "language_info": {
   "codemirror_mode": {
    "name": "ipython",
    "version": 3
   },
   "file_extension": ".py",
   "mimetype": "text/x-python",
   "name": "python",
   "nbconvert_exporter": "python",
   "pygments_lexer": "ipython3",
   "version": "3.11.3"
  }
 },
 "nbformat": 4,
 "nbformat_minor": 5
}
