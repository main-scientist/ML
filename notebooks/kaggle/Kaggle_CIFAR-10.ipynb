{
 "cells": [
  {
   "cell_type": "code",
   "execution_count": 30,
   "id": "ab245bba-6549-4773-a2c1-ab949b71bd9b",
   "metadata": {},
   "outputs": [],
   "source": [
    "import numpy as np\n",
    "import pandas as pd\n",
    "import matplotlib.pyplot as plt\n",
    "\n",
    "from PIL import Image\n",
    "from tqdm.notebook import tqdm\n",
    "\n",
    "import torch\n",
    "import torch.nn as nn\n",
    "import torch.nn.functional as F\n",
    "import torch.optim as optim\n",
    "from torch.optim import lr_scheduler\n",
    "from torch.utils.data import TensorDataset, DataLoader, ConcatDataset, Dataset\n",
    "\n",
    "import torchvision\n",
    "import torchvision.transforms as transforms\n",
    "from torchvision.datasets import ImageFolder\n",
    "\n",
    "from sklearn.metrics import accuracy_score\n",
    "from sklearn.preprocessing import LabelEncoder"
   ]
  },
  {
   "cell_type": "code",
   "execution_count": 2,
   "id": "897cc6bc-434a-41e1-80d9-700e6fcee9fd",
   "metadata": {},
   "outputs": [
    {
     "data": {
      "text/plain": [
       "'mps'"
      ]
     },
     "execution_count": 2,
     "metadata": {},
     "output_type": "execute_result"
    }
   ],
   "source": [
    "device = 'mps' if torch.backends.mps.is_available() else \"cpu\"\n",
    "device"
   ]
  },
  {
   "cell_type": "markdown",
   "id": "8d7d3d4a-392b-4543-86ca-243d1e817bfb",
   "metadata": {},
   "source": [
    "#### Preparation Data"
   ]
  },
  {
   "cell_type": "code",
   "execution_count": 40,
   "id": "81c29110-4429-4bcc-a340-d09a50bae0c6",
   "metadata": {},
   "outputs": [],
   "source": [
    "transform = transforms.Compose([\n",
    "    transforms.ToTensor(),\n",
    "    transforms.Normalize(mean=[0.485, 0.456, 0.406], std=[0.229, 0.224, 0.225])\n",
    "])\n",
    "\n",
    "aug_transform = transforms.Compose([\n",
    "    transforms.RandomRotation(degrees=15),\n",
    "    transforms.RandomHorizontalFlip(p=0.5),\n",
    "    transforms.RandomVerticalFlip(p=0.5),\n",
    "    transforms.ToTensor(),\n",
    "    transforms.Normalize(mean=[0.485, 0.456, 0.406], std=[0.229, 0.224, 0.225])\n",
    "])\n",
    "\n",
    "# train_dataset = torchvision.datasets.CIFAR10(root='./data', train=True, download=True, transform=transform)\n",
    "# train_dataset_aug = torchvision.datasets.CIFAR10(root='./data', train=True, download=True, transform=aug_transform)\n",
    "# train_dataset = ConcatDataset([train_dataset, train_dataset_aug])\n",
    "# test_dataset = torchvision.datasets.CIFAR10(root='./data', train=False, download=True, transform=transform)\n",
    "\n",
    "#---------------------------------------------------------------\n",
    "\n",
    "image_folder_org = ImageFolder('./data/train_up/', transform=transform)\n",
    "image_folder_aug = ImageFolder('./data/train_up/', transform=aug_transform)\n",
    "train_dataset = ConcatDataset([image_folder_org, image_folder_aug])\n",
    "\n",
    "\n",
    "class_name = [\"airplane\", \"automobile\", \"bird\",\"cat\", \"deer\", \"dog\",\"frog\",\"horse\", \"ship\",\"truck\"]\n",
    "label_encoder = LabelEncoder()\n",
    "y = pd.read_csv('./data/trainLabels.csv')\n",
    "y_values = y['label'].values\n",
    "label_encoder = LabelEncoder()\n",
    "encoded_y = label_encoder.fit_transform(y_values)\n",
    "encoded_y = np.concatenate((encoded_y, encoded_y))\n",
    "\n",
    "\n",
    "tensor_x = torch.stack([image for image, _ in train_dataset])\n",
    "tensor_y = torch.tensor(encoded_y, dtype=torch.long)\n",
    "\n",
    "train_dataset = TensorDataset(tensor_x, tensor_y)\n",
    "test_dataset = ImageFolder(root='./data/test_up/', transform=transform)"
   ]
  },
  {
   "cell_type": "code",
   "execution_count": 9,
   "id": "15f99f23-a4fd-4245-abf8-923fadcca79a",
   "metadata": {},
   "outputs": [
    {
     "name": "stderr",
     "output_type": "stream",
     "text": [
      "Clipping input data to the valid range for imshow with RGB data ([0..1] for floats or [0..255] for integers).\n",
      "Clipping input data to the valid range for imshow with RGB data ([0..1] for floats or [0..255] for integers).\n",
      "Clipping input data to the valid range for imshow with RGB data ([0..1] for floats or [0..255] for integers).\n",
      "Clipping input data to the valid range for imshow with RGB data ([0..1] for floats or [0..255] for integers).\n"
     ]
    },
    {
     "data": {
      "image/png": "[encoded data removed]",
      "text/plain": [
       "<Figure size 1500x400 with 4 Axes>"
      ]
     },
     "metadata": {},
     "output_type": "display_data"
    }
   ],
   "source": [
    "horizontal_flip = transforms.RandomHorizontalFlip(1)\n",
    "vertical_flip = transforms.RandomVerticalFlip(1)\n",
    "rotation = transforms.RandomRotation(degrees=15)\n",
    "\n",
    "tensor = train_dataset[1][0]\n",
    "tensor_horizontal_flip = horizontal_flip(tensor)\n",
    "tensor_vertical_flip = vertical_flip(tensor)\n",
    "tensor_rotation = rotation(tensor)\n",
    "\n",
    "image = tensor.permute(1, 2, 0)\n",
    "image_horizontal_flip = tensor_horizontal_flip.permute(1, 2, 0)\n",
    "image_vertical_flip = tensor_vertical_flip.permute(1, 2, 0)\n",
    "image_rotation = tensor_rotation.permute(1, 2, 0)\n",
    "\n",
    "fig, ax = plt.subplots(ncols=4, figsize=(15, 4))\n",
    "ax[0].imshow(image)\n",
    "ax[0].axis(False)\n",
    "ax[0].grid(False)\n",
    "\n",
    "ax[1].imshow(image_horizontal_flip)\n",
    "ax[1].axis(False)\n",
    "ax[1].grid(False)\n",
    "\n",
    "ax[2].imshow(image_vertical_flip)\n",
    "ax[2].axis(False)\n",
    "ax[2].grid(False)\n",
    "\n",
    "ax[3].imshow(image_rotation)\n",
    "ax[3].axis(False)\n",
    "ax[3].grid(False)\n",
    "\n",
    "plt.show()"
   ]
  },
  {
   "cell_type": "code",
   "execution_count": 41,
   "id": "1daa374c-9072-4d89-bf57-f310959b6c9f",
   "metadata": {},
   "outputs": [],
   "source": [
    "batch_size=32\n",
    "train_loader = DataLoader(train_dataset, batch_size=batch_size, shuffle=True, num_workers=2)\n",
    "test_loader = DataLoader(test_dataset, shuffle=False, num_workers=2)"
   ]
  },
  {
   "cell_type": "markdown",
   "id": "a4b2dab6-928e-45b0-a05e-8df3eced1f02",
   "metadata": {},
   "source": [
    "#### Init model"
   ]
  },
  {
   "cell_type": "code",
   "execution_count": 42,
   "id": "169845b5-7777-4a1c-aa2a-f3d19d19e901",
   "metadata": {},
   "outputs": [],
   "source": [
    "class Net(nn.Module):\n",
    "    def __init__(self):\n",
    "        super(Net, self).__init__()\n",
    "        self.conv1 = nn.Conv2d(in_channels=3, out_channels=32, kernel_size=3, stride=1, padding=1)  # Вход: 32x32, Выход: 32x32\n",
    "        self.norm1 = nn.BatchNorm2d(32)\n",
    "        self.drop1 = nn.Dropout2d(p=0.2)\n",
    "        self.conv2 = nn.Conv2d(in_channels=32, out_channels=64, kernel_size=3, stride=1, padding=1)  # Вход: 32x32, Выход: 32x32\n",
    "        self.norm2 = nn.BatchNorm2d(64)\n",
    "        self.pool1 = nn.MaxPool2d(kernel_size=2, stride=2)  # Вход: 32x32, Выход: 16x16\n",
    "        self.conv3 = nn.Conv2d(in_channels=64, out_channels=128, kernel_size=3, stride=1, padding=1)  # Вход: 16x16, Выход: 16x16\n",
    "        self.norm3 = nn.BatchNorm2d(128)\n",
    "        self.pool2 = nn.MaxPool2d(kernel_size=2, stride=2)  # Вход: 16x16, Выход: 8x8\n",
    "        self.conv4 = nn.Conv2d(in_channels=128, out_channels=64, kernel_size=3, stride=1)  # Вход: 8x8, Выход: 6x6\n",
    "        self.norm4 = nn.BatchNorm2d(64)\n",
    "        self.pool3 = nn.MaxPool2d(kernel_size=4)  # Вход: 6x6, Выход: 1x1\n",
    "        self.drop2 = nn.Dropout2d(p=0.2)\n",
    "        self.flatten = nn.Flatten()\n",
    "        self.fc1 = nn.Linear(in_features=64, out_features=256)\n",
    "        self.drop3 = nn.Dropout(p=0.1)\n",
    "        self.fc2 = nn.Linear(in_features=256, out_features=10)\n",
    "\n",
    "    def forward(self, x):\n",
    "        x = F.relu(self.conv1(x))\n",
    "        x = self.norm1(x)\n",
    "        x = self.drop1(x)\n",
    "        x = F.relu(self.conv2(x))\n",
    "        x = self.norm2(x)\n",
    "        x = self.pool1(x)\n",
    "        x = F.relu(self.conv3(x))\n",
    "        x = self.norm3(x)\n",
    "        x = self.pool2(x)\n",
    "        x = F.relu(self.conv4(x))\n",
    "        x = self.norm4(x)\n",
    "        x = self.pool3(x)\n",
    "        x = self.drop2(x)\n",
    "        x = self.flatten(x)\n",
    "        x = F.relu(self.fc1(x))\n",
    "        x = self.drop3(x)\n",
    "        x = self.fc2(x)\n",
    "        return x"
   ]
  },
  {
   "cell_type": "code",
   "execution_count": 47,
   "id": "94a505f1-d1e2-4749-9d66-23bda2575e3c",
   "metadata": {},
   "outputs": [],
   "source": [
    "# def fit(model, opt, loss_func, train_loader, test_loader, epochs, scheduler):\n",
    "def fit(model, opt, loss_func, train_loader, epochs, scheduler):\n",
    "    train_loss = []\n",
    "    test_loss = []\n",
    "    history_accuracy = []\n",
    "\n",
    "    for epoch in tqdm(range(epochs)):\n",
    "        model.train()\n",
    "        loss_sum = 0\n",
    "        for xb, yb in tqdm(train_loader, desc=f\"{epoch+1}'st Epoch Train\"):\n",
    "            xb, yb = xb.to(device), yb.to(device)\n",
    "            opt.zero_grad()\n",
    "            loss = loss_func(model(xb), yb)\n",
    "            loss.backward()\n",
    "            opt.step()\n",
    "            loss_sum += loss.item()\n",
    "        train_loss.append(loss_sum / len(train_loader))\n",
    "        scheduler.step()\n",
    "\n",
    "        # model.eval()\n",
    "        # loss_sum = 0\n",
    "        # y_pred = []\n",
    "        # y_true = []\n",
    "        # with torch.no_grad():\n",
    "        #     for x, y in tqdm(test_loader):\n",
    "        #         x, y = x.to(device), y.to(device)\n",
    "        #         output = model(x)\n",
    "        #         logit = F.softmax(output, dim=1)\n",
    "        #         _, pred = torch.max(logit, dim=1)\n",
    "        #         y_pred.append(pred.item())\n",
    "        #         y_true.append(y.item())\n",
    "        #         loss = loss_func(output, y)\n",
    "        #         loss_sum += loss.item()\n",
    "        #     test_loss.append(loss_sum / len(test_loader))\n",
    "        #     history_accuracy.append(accuracy_score(y_true, y_pred))\n",
    "\n",
    "        last_train_loss = round(train_loss[-1], 5)\n",
    "        # last_test_loss = round(test_loss[-1], 5)\n",
    "        last_lr = scheduler.get_last_lr()\n",
    "        # last_accuracy = round(history_accuracy[-1], 5)\n",
    "        # print(f'Epoch {epoch+1}: Train Loss = {last_train_loss}, Test Loss = {last_test_loss}, Accuracy = {last_accuracy} Lr = {last_lr}')\n",
    "        print(f'Epoch {epoch+1}: Train Loss = {last_train_loss}, Lr = {last_lr}')\n",
    "\n",
    "    return train_loss, test_loss, history_accuracy"
   ]
  },
  {
   "cell_type": "markdown",
   "id": "9a88c6c4-59e6-4163-bb17-e6685593f3a1",
   "metadata": {},
   "source": [
    "#### Train model"
   ]
  },
  {
   "cell_type": "code",
   "execution_count": 48,
   "id": "eb2e6d21-ff6b-4f74-8bfe-c2bfd9556ca7",
   "metadata": {},
   "outputs": [
    {
     "data": {
      "application/vnd.jupyter.widget-view+json": {
       "model_id": "8a40c00cb8134b56bdbc21baef039a71",
       "version_major": 2,
       "version_minor": 0
      },
      "text/plain": [
       "  0%|          | 0/20 [00:00<?, ?it/s]"
      ]
     },
     "metadata": {},
     "output_type": "display_data"
    },
    {
     "data": {
      "application/vnd.jupyter.widget-view+json": {
       "model_id": "bf9ecee671b146449edfc2ee150ef93e",
       "version_major": 2,
       "version_minor": 0
      },
      "text/plain": [
       "1'st Epoch Train:   0%|          | 0/3125 [00:00<?, ?it/s]"
      ]
     },
     "metadata": {},
     "output_type": "display_data"
    },
    {
     "name": "stdout",
     "output_type": "stream",
     "text": [
      "Epoch 1: Train Loss = 2.30978, Lr = [0.001]\n"
     ]
    },
    {
     "data": {
      "application/vnd.jupyter.widget-view+json": {
       "model_id": "6bd83a9feb24490781b32dc769659e7c",
       "version_major": 2,
       "version_minor": 0
      },
      "text/plain": [
       "2'st Epoch Train:   0%|          | 0/3125 [00:00<?, ?it/s]"
      ]
     },
     "metadata": {},
     "output_type": "display_data"
    },
    {
     "name": "stdout",
     "output_type": "stream",
     "text": [
      "Epoch 2: Train Loss = 2.30354, Lr = [0.001]\n"
     ]
    },
    {
     "data": {
      "application/vnd.jupyter.widget-view+json": {
       "model_id": "ed9a6b8b91084495a04bab155e628993",
       "version_major": 2,
       "version_minor": 0
      },
      "text/plain": [
       "3'st Epoch Train:   0%|          | 0/3125 [00:00<?, ?it/s]"
      ]
     },
     "metadata": {},
     "output_type": "display_data"
    },
    {
     "name": "stdout",
     "output_type": "stream",
     "text": [
      "Epoch 3: Train Loss = 2.30349, Lr = [0.001]\n"
     ]
    },
    {
     "data": {
      "application/vnd.jupyter.widget-view+json": {
       "model_id": "4d9636856f7b4df39aa8111899d8d2e3",
       "version_major": 2,
       "version_minor": 0
      },
      "text/plain": [
       "4'st Epoch Train:   0%|          | 0/3125 [00:00<?, ?it/s]"
      ]
     },
     "metadata": {},
     "output_type": "display_data"
    },
    {
     "name": "stdout",
     "output_type": "stream",
     "text": [
      "Epoch 4: Train Loss = 2.30295, Lr = [0.001]\n"
     ]
    },
    {
     "data": {
      "application/vnd.jupyter.widget-view+json": {
       "model_id": "8babef2c44074988a56ac84ecc4f1029",
       "version_major": 2,
       "version_minor": 0
      },
      "text/plain": [
       "5'st Epoch Train:   0%|          | 0/3125 [00:00<?, ?it/s]"
      ]
     },
     "metadata": {},
     "output_type": "display_data"
    },
    {
     "name": "stdout",
     "output_type": "stream",
     "text": [
      "Epoch 5: Train Loss = 2.3029, Lr = [0.001]\n"
     ]
    },
    {
     "data": {
      "application/vnd.jupyter.widget-view+json": {
       "model_id": "75d790734ea54f3080b24b5a62f15c8c",
       "version_major": 2,
       "version_minor": 0
      },
      "text/plain": [
       "6'st Epoch Train:   0%|          | 0/3125 [00:00<?, ?it/s]"
      ]
     },
     "metadata": {},
     "output_type": "display_data"
    },
    {
     "name": "stdout",
     "output_type": "stream",
     "text": [
      "Epoch 6: Train Loss = 2.3028, Lr = [0.001]\n"
     ]
    },
    {
     "data": {
      "application/vnd.jupyter.widget-view+json": {
       "model_id": "c5da3e6c89e14d84934963c1cd583fea",
       "version_major": 2,
       "version_minor": 0
      },
      "text/plain": [
       "7'st Epoch Train:   0%|          | 0/3125 [00:00<?, ?it/s]"
      ]
     },
     "metadata": {},
     "output_type": "display_data"
    },
    {
     "name": "stdout",
     "output_type": "stream",
     "text": [
      "Epoch 7: Train Loss = 2.30298, Lr = [0.001]\n"
     ]
    },
    {
     "data": {
      "application/vnd.jupyter.widget-view+json": {
       "model_id": "c75d5ecb2ef34cbd8db35fce3bd2bdcc",
       "version_major": 2,
       "version_minor": 0
      },
      "text/plain": [
       "8'st Epoch Train:   0%|          | 0/3125 [00:00<?, ?it/s]"
      ]
     },
     "metadata": {},
     "output_type": "display_data"
    },
    {
     "name": "stdout",
     "output_type": "stream",
     "text": [
      "Epoch 8: Train Loss = 2.30279, Lr = [0.001]\n"
     ]
    },
    {
     "data": {
      "application/vnd.jupyter.widget-view+json": {
       "model_id": "f0ac411b14f84382a635ae7ba9780f80",
       "version_major": 2,
       "version_minor": 0
      },
      "text/plain": [
       "9'st Epoch Train:   0%|          | 0/3125 [00:00<?, ?it/s]"
      ]
     },
     "metadata": {},
     "output_type": "display_data"
    },
    {
     "name": "stdout",
     "output_type": "stream",
     "text": [
      "Epoch 9: Train Loss = 2.30277, Lr = [0.001]\n"
     ]
    },
    {
     "data": {
      "application/vnd.jupyter.widget-view+json": {
       "model_id": "e38814fb09e1467abe59b68bdc68292b",
       "version_major": 2,
       "version_minor": 0
      },
      "text/plain": [
       "10'st Epoch Train:   0%|          | 0/3125 [00:00<?, ?it/s]"
      ]
     },
     "metadata": {},
     "output_type": "display_data"
    },
    {
     "name": "stdout",
     "output_type": "stream",
     "text": [
      "Epoch 10: Train Loss = 2.30272, Lr = [0.0005]\n"
     ]
    },
    {
     "data": {
      "application/vnd.jupyter.widget-view+json": {
       "model_id": "7760441d835445d7b62c3737c39dd122",
       "version_major": 2,
       "version_minor": 0
      },
      "text/plain": [
       "11'st Epoch Train:   0%|          | 0/3125 [00:00<?, ?it/s]"
      ]
     },
     "metadata": {},
     "output_type": "display_data"
    },
    {
     "name": "stdout",
     "output_type": "stream",
     "text": [
      "Epoch 11: Train Loss = 2.30271, Lr = [0.0005]\n"
     ]
    },
    {
     "data": {
      "application/vnd.jupyter.widget-view+json": {
       "model_id": "a07ddfe093444a5793880d96e05a4d31",
       "version_major": 2,
       "version_minor": 0
      },
      "text/plain": [
       "12'st Epoch Train:   0%|          | 0/3125 [00:00<?, ?it/s]"
      ]
     },
     "metadata": {},
     "output_type": "display_data"
    },
    {
     "name": "stdout",
     "output_type": "stream",
     "text": [
      "Epoch 12: Train Loss = 2.30274, Lr = [0.0005]\n"
     ]
    },
    {
     "data": {
      "application/vnd.jupyter.widget-view+json": {
       "model_id": "4662143633d3440289830aa38cab43b0",
       "version_major": 2,
       "version_minor": 0
      },
      "text/plain": [
       "13'st Epoch Train:   0%|          | 0/3125 [00:00<?, ?it/s]"
      ]
     },
     "metadata": {},
     "output_type": "display_data"
    },
    {
     "name": "stdout",
     "output_type": "stream",
     "text": [
      "Epoch 13: Train Loss = 2.30263, Lr = [0.0005]\n"
     ]
    },
    {
     "data": {
      "application/vnd.jupyter.widget-view+json": {
       "model_id": "4ece0e2111b0404c82079f0c0166d40f",
       "version_major": 2,
       "version_minor": 0
      },
      "text/plain": [
       "14'st Epoch Train:   0%|          | 0/3125 [00:00<?, ?it/s]"
      ]
     },
     "metadata": {},
     "output_type": "display_data"
    },
    {
     "name": "stdout",
     "output_type": "stream",
     "text": [
      "Epoch 14: Train Loss = 2.30268, Lr = [0.0005]\n"
     ]
    },
    {
     "data": {
      "application/vnd.jupyter.widget-view+json": {
       "model_id": "5a6bdf32e2334ca8929c1ef819ed2b3b",
       "version_major": 2,
       "version_minor": 0
      },
      "text/plain": [
       "15'st Epoch Train:   0%|          | 0/3125 [00:00<?, ?it/s]"
      ]
     },
     "metadata": {},
     "output_type": "display_data"
    },
    {
     "name": "stdout",
     "output_type": "stream",
     "text": [
      "Epoch 15: Train Loss = 2.30271, Lr = [0.00025]\n"
     ]
    },
    {
     "data": {
      "application/vnd.jupyter.widget-view+json": {
       "model_id": "ff9b817340f54618aca40804ef64dd51",
       "version_major": 2,
       "version_minor": 0
      },
      "text/plain": [
       "16'st Epoch Train:   0%|          | 0/3125 [00:00<?, ?it/s]"
      ]
     },
     "metadata": {},
     "output_type": "display_data"
    },
    {
     "name": "stdout",
     "output_type": "stream",
     "text": [
      "Epoch 16: Train Loss = 2.30264, Lr = [0.00025]\n"
     ]
    },
    {
     "data": {
      "application/vnd.jupyter.widget-view+json": {
       "model_id": "8adfa7aa89ee4d31abc8b12177d78dd5",
       "version_major": 2,
       "version_minor": 0
      },
      "text/plain": [
       "17'st Epoch Train:   0%|          | 0/3125 [00:00<?, ?it/s]"
      ]
     },
     "metadata": {},
     "output_type": "display_data"
    },
    {
     "name": "stdout",
     "output_type": "stream",
     "text": [
      "Epoch 17: Train Loss = 2.30259, Lr = [0.00025]\n"
     ]
    },
    {
     "data": {
      "application/vnd.jupyter.widget-view+json": {
       "model_id": "7f4f1be6f61145bd8e3831dbaa701d66",
       "version_major": 2,
       "version_minor": 0
      },
      "text/plain": [
       "18'st Epoch Train:   0%|          | 0/3125 [00:00<?, ?it/s]"
      ]
     },
     "metadata": {},
     "output_type": "display_data"
    },
    {
     "name": "stdout",
     "output_type": "stream",
     "text": [
      "Epoch 18: Train Loss = 2.30257, Lr = [0.000125]\n"
     ]
    },
    {
     "data": {
      "application/vnd.jupyter.widget-view+json": {
       "model_id": "75e7fd2cca524845b6af28b130c088d2",
       "version_major": 2,
       "version_minor": 0
      },
      "text/plain": [
       "19'st Epoch Train:   0%|          | 0/3125 [00:00<?, ?it/s]"
      ]
     },
     "metadata": {},
     "output_type": "display_data"
    },
    {
     "name": "stdout",
     "output_type": "stream",
     "text": [
      "Epoch 19: Train Loss = 2.30248, Lr = [0.000125]\n"
     ]
    },
    {
     "data": {
      "application/vnd.jupyter.widget-view+json": {
       "model_id": "f68b150d4d064462ace2172de031b580",
       "version_major": 2,
       "version_minor": 0
      },
      "text/plain": [
       "20'st Epoch Train:   0%|          | 0/3125 [00:00<?, ?it/s]"
      ]
     },
     "metadata": {},
     "output_type": "display_data"
    },
    {
     "name": "stdout",
     "output_type": "stream",
     "text": [
      "Epoch 20: Train Loss = 2.30242, Lr = [0.000125]\n"
     ]
    }
   ],
   "source": [
    "model = Net()\n",
    "model.to(device)\n",
    "loss_func = nn.CrossEntropyLoss()\n",
    "opt = optim.Adam(params=model.parameters(), lr=0.001)\n",
    "scheduler = lr_scheduler.MultiStepLR(opt, milestones=[10, 15, 18], gamma=0.5)\n",
    "\n",
    "epochs = 20\n",
    "# hist = fit(model, opt, loss_func, train_loader, test_loader, epochs, scheduler)\n",
    "hist = fit(model, opt, loss_func, train_loader, epochs, scheduler)"
   ]
  },
  {
   "cell_type": "code",
   "execution_count": 17,
   "id": "7d29c32f-fd55-4f0b-aead-3202e6efca9e",
   "metadata": {},
   "outputs": [
    {
     "data": {
      "text/plain": [
       "Net(\n",
       "  (conv1): Conv2d(3, 32, kernel_size=(3, 3), stride=(1, 1), padding=(1, 1))\n",
       "  (norm1): BatchNorm2d(32, eps=1e-05, momentum=0.1, affine=True, track_running_stats=True)\n",
       "  (drop1): Dropout2d(p=0.2, inplace=False)\n",
       "  (conv2): Conv2d(32, 64, kernel_size=(3, 3), stride=(1, 1), padding=(1, 1))\n",
       "  (norm2): BatchNorm2d(64, eps=1e-05, momentum=0.1, affine=True, track_running_stats=True)\n",
       "  (pool1): MaxPool2d(kernel_size=2, stride=2, padding=0, dilation=1, ceil_mode=False)\n",
       "  (conv3): Conv2d(64, 128, kernel_size=(3, 3), stride=(1, 1), padding=(1, 1))\n",
       "  (norm3): BatchNorm2d(128, eps=1e-05, momentum=0.1, affine=True, track_running_stats=True)\n",
       "  (pool2): MaxPool2d(kernel_size=2, stride=2, padding=0, dilation=1, ceil_mode=False)\n",
       "  (conv4): Conv2d(128, 64, kernel_size=(3, 3), stride=(1, 1))\n",
       "  (norm4): BatchNorm2d(64, eps=1e-05, momentum=0.1, affine=True, track_running_stats=True)\n",
       "  (pool3): MaxPool2d(kernel_size=4, stride=4, padding=0, dilation=1, ceil_mode=False)\n",
       "  (drop2): Dropout2d(p=0.2, inplace=False)\n",
       "  (flatten): Flatten(start_dim=1, end_dim=-1)\n",
       "  (fc1): Linear(in_features=64, out_features=256, bias=True)\n",
       "  (drop3): Dropout(p=0.1, inplace=False)\n",
       "  (fc2): Linear(in_features=256, out_features=10, bias=True)\n",
       ")"
      ]
     },
     "execution_count": 17,
     "metadata": {},
     "output_type": "execute_result"
    }
   ],
   "source": [
    "model = torch.load('./models/CIFAR_Net_model.pth', map_location='mps')\n",
    "model.to(device)"
   ]
  },
  {
   "cell_type": "markdown",
   "id": "d8a80f92-9a58-4c3b-879e-a39e30ec612d",
   "metadata": {},
   "source": [
    "#### Predict Test and Save Ans"
   ]
  },
  {
   "cell_type": "code",
   "execution_count": 49,
   "id": "80b3aea9-c36e-4697-be4f-abb62fe3b00a",
   "metadata": {},
   "outputs": [],
   "source": [
    "def predict(model, loader):\n",
    "    y_pred = []\n",
    "    model.eval()\n",
    "    with torch.no_grad():\n",
    "        for x, _ in tqdm(loader):\n",
    "            x = x.to(device)\n",
    "            output = model(x)\n",
    "            logit = F.softmax(output, dim=1)\n",
    "            _, pred = torch.max(logit, dim=1)\n",
    "            y_pred.append(pred.item())\n",
    "    return y_pred"
   ]
  },
  {
   "cell_type": "code",
   "execution_count": 50,
   "id": "4090db50-b598-48af-a056-2513e152e913",
   "metadata": {},
   "outputs": [
    {
     "data": {
      "application/vnd.jupyter.widget-view+json": {
       "model_id": "8585358901854065a82fea541fd57f5c",
       "version_major": 2,
       "version_minor": 0
      },
      "text/plain": [
       "  0%|          | 0/300000 [00:00<?, ?it/s]"
      ]
     },
     "metadata": {},
     "output_type": "display_data"
    }
   ],
   "source": [
    "y_pred = predict(model, test_loader)"
   ]
  },
  {
   "cell_type": "code",
   "execution_count": 51,
   "id": "e15b2585-1d1e-448b-bab6-1fb3b285ef2d",
   "metadata": {},
   "outputs": [],
   "source": [
    "df_sub = pd.read_csv('./data/sampleSubmission.csv')\n",
    "class_name = [\"airplane\", \"automobile\", \"bird\",\"cat\", \"deer\", \"dog\",\"frog\",\"horse\", \"ship\",\"truck\"]\n",
    "df_sub['label'] = [class_name[i] for i in y_pred]\n",
    "df_sub.to_csv('./ans/CIFAR_Net_ans.csv', index=False)"
   ]
  }
 ],
 "metadata": {
  "kernelspec": {
   "display_name": "Python 3 (ipykernel)",
   "language": "python",
   "name": "python3"
  },
  "language_info": {
   "codemirror_mode": {
    "name": "ipython",
    "version": 3
   },
   "file_extension": ".py",
   "mimetype": "text/x-python",
   "name": "python",
   "nbconvert_exporter": "python",
   "pygments_lexer": "ipython3",
   "version": "3.8.17"
  }
 },
 "nbformat": 4,
 "nbformat_minor": 5
}
