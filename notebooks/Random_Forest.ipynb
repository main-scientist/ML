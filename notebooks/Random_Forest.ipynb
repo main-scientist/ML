{
 "cells": [
  {
   "cell_type": "code",
   "execution_count": 2,
   "id": "db27620a-28e8-49e1-a962-5a422323fee5",
   "metadata": {},
   "outputs": [],
   "source": [
    "import numpy as np\n",
    "import pandas as pd\n",
    "import matplotlib.pyplot as plt\n",
    "import seaborn as sns\n",
    "from tqdm.notebook import tqdm\n",
    "\n",
    "from sklearn.tree import DecisionTreeRegressor\n",
    "from sklearn.model_selection import train_test_split\n",
    "from sklearn.preprocessing import StandardScaler\n",
    "from sklearn.metrics import mean_squared_error\n",
    "\n",
    "sns.set(style=\"darkgrid\")"
   ]
  },
  {
   "cell_type": "code",
   "execution_count": 3,
   "id": "e7396824-a28c-46de-8eaf-8cf060455a37",
   "metadata": {},
   "outputs": [],
   "source": [
    "df_train = pd.read_csv(\"../data/dataset/train.csv\")\n",
    "df_test = pd.read_csv(\"../data/dataset/test.csv\")\n",
    "df_train = df_train.drop(\"id\", axis=1)\n",
    "df_test = df_test.drop(\"id\", axis=1)"
   ]
  },
  {
   "cell_type": "code",
   "execution_count": 4,
   "id": "30522c4b-409c-4fd3-b8f3-f9342281790d",
   "metadata": {},
   "outputs": [],
   "source": [
    "scaler = StandardScaler()\n",
    "scaler.fit(df_train.drop(\"MedHouseVal\", axis=1).values)\n",
    "df_X = pd.DataFrame(scaler.transform(df_train.drop(\"MedHouseVal\", axis=1).values))\n",
    "df_y = df_train[\"MedHouseVal\"]\n",
    "X_test = pd.DataFrame(scaler.transform(df_test.values))"
   ]
  },
  {
   "cell_type": "code",
   "execution_count": 5,
   "id": "8e4006d6-a10d-4414-b5ad-7696fc9874c5",
   "metadata": {},
   "outputs": [],
   "source": [
    "X_train, X_val, y_train, y_val = train_test_split(df_X, df_y, test_size=0.2, random_state=0, shuffle=True)"
   ]
  },
  {
   "cell_type": "code",
   "execution_count": 6,
   "id": "7fc9e85d-01e2-40e5-8ad5-50b95b8f33dc",
   "metadata": {},
   "outputs": [],
   "source": [
    "def overfitting(model, X_train, y_train, X_val, y_val):\n",
    "    mse_train = mean_squared_error(y_train, model.predict(X_train))\n",
    "    mse_val = mean_squared_error(y_val, model.predict(X_val))\n",
    "    print(f'MSE train: {mse_train}')\n",
    "    print(f'MSE test: {mse_val}')\n",
    "    return"
   ]
  },
  {
   "cell_type": "code",
   "execution_count": 52,
   "id": "9748a918-c730-42b3-9bae-6281da0b6da7",
   "metadata": {},
   "outputs": [],
   "source": [
    "class my_Random_Forest():\n",
    "    def __init__(self, \n",
    "                 n_estimators=100, \n",
    "                 max_depth=None, \n",
    "                 bootstrap_sample_size=None,\n",
    "                 min_samples_leaf=1,\n",
    "                 min_samples_split=2):\n",
    "        self.n_estimators = n_estimators\n",
    "        self.bootstrap_sample_size = bootstrap_sample_size\n",
    "        self.estimators = [DecisionTreeRegressor(max_depth=max_depth, \n",
    "                                                 min_samples_leaf=min_samples_leaf,\n",
    "                                                 min_samples_split=min_samples_split)\n",
    "                           for _ in range(n_estimators)]\n",
    "\n",
    "    def fit(self, X, y):\n",
    "        hist_mse = []\n",
    "        mse_acc = 0\n",
    "        for i, estimator in tqdm(enumerate(self.estimators)):\n",
    "            if self.bootstrap_sample_size:\n",
    "                indices = np.random.choice(len(X), size=self.bootstrap_sample_size, replace=True)\n",
    "            else:\n",
    "                indices = np.random.choice(len(X), size=len(X), replace=True)\n",
    "            X_bootstrap = df_X.loc[indices]\n",
    "            y_bootstrap = df_y.loc[indices]\n",
    "            estimator.fit(X_bootstrap, y_bootstrap)\n",
    "            \n",
    "            y_pred = estimator.predict(X)\n",
    "            mse_acc += mean_squared_error(y, y_pred)\n",
    "            hist_mse.append(mse_acc / (i+1))\n",
    "        return hist_mse\n",
    "\n",
    "    def predict(self, X):\n",
    "        predictions = np.array([estimator.predict(X) for estimator in self.estimators])\n",
    "        return np.mean(predictions, axis=0)"
   ]
  },
  {
   "cell_type": "code",
   "execution_count": 70,
   "id": "a5d15dd1-312f-4530-94ce-dafe02e474e3",
   "metadata": {},
   "outputs": [
    {
     "data": {
      "application/vnd.jupyter.widget-view+json": {
       "model_id": "a9e029ed957542028b4452bb4e2daa63",
       "version_major": 2,
       "version_minor": 0
      },
      "text/plain": [
       "0it [00:00, ?it/s]"
      ]
     },
     "metadata": {},
     "output_type": "display_data"
    },
    {
     "name": "stdout",
     "output_type": "stream",
     "text": [
      "MSE train: 0.4933457913479583\n",
      "MSE test: 0.5027086118929661\n"
     ]
    },
    {
     "data": {
      "image/png": "[encoded data removed]",
      "text/plain": [
       "<Figure size 1000x300 with 1 Axes>"
      ]
     },
     "metadata": {},
     "output_type": "display_data"
    }
   ],
   "source": [
    "rf = my_Random_Forest(n_estimators=2000,\n",
    "                      max_depth=4, \n",
    "                      bootstrap_sample_size=1000, \n",
    "                      min_samples_leaf=5,\n",
    "                      min_samples_split=10)\n",
    "hist_mse = rf.fit(X_train, y_train)\n",
    "overfitting(rf, X_train, y_train, X_val, y_val)\n",
    "\n",
    "fig = plt.figure(figsize=(10, 3))\n",
    "sns.lineplot(x=range(len(hist_mse)), y=hist_mse)\n",
    "plt.ylabel(\"MSE\")\n",
    "plt.xlabel(\"n_estimators\")\n",
    "plt.show()"
   ]
  },
  {
   "cell_type": "code",
   "execution_count": 57,
   "id": "aceb49dd-5610-42aa-b5e1-7a1eefe751c9",
   "metadata": {},
   "outputs": [
    {
     "name": "stdout",
     "output_type": "stream",
     "text": [
      "MSE train: 0.531778287245711\n",
      "MSE test: 0.5308893517341526\n"
     ]
    }
   ],
   "source": [
    "from sklearn.linear_model import LinearRegression\n",
    "linear_model = LinearRegression()\n",
    "linear_model.fit(X_train, y_train)\n",
    "overfitting(linear_model, X_train, y_train, X_val, y_val)"
   ]
  },
  {
   "cell_type": "code",
   "execution_count": 62,
   "id": "402cb53a-db68-4d48-910b-3771104f2467",
   "metadata": {},
   "outputs": [
    {
     "name": "stdout",
     "output_type": "stream",
     "text": [
      "MSE train: 0.44985238207986533\n",
      "MSE test: 0.4624090392856305\n"
     ]
    }
   ],
   "source": [
    "from sklearn.preprocessing import PolynomialFeatures\n",
    "poly_features = PolynomialFeatures(degree=2, include_bias=False)\n",
    "X_train_poly = poly_features.fit_transform(X_train)\n",
    "X_val_poly = poly_features.transform(X_val)\n",
    "\n",
    "poly_model = LinearRegression()\n",
    "poly_model.fit(X_train_poly, y_train)\n",
    "overfitting(poly_model, X_train_poly, y_train, X_val_poly, y_val)"
   ]
  }
 ],
 "metadata": {
  "kernelspec": {
   "display_name": "Python 3 (ipykernel)",
   "language": "python",
   "name": "python3"
  },
  "language_info": {
   "codemirror_mode": {
    "name": "ipython",
    "version": 3
   },
   "file_extension": ".py",
   "mimetype": "text/x-python",
   "name": "python",
   "nbconvert_exporter": "python",
   "pygments_lexer": "ipython3",
   "version": "3.8.17"
  }
 },
 "nbformat": 4,
 "nbformat_minor": 5
}
