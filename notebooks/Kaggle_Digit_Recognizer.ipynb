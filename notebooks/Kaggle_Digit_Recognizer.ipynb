{
 "cells": [
  {
   "cell_type": "code",
   "execution_count": 96,
   "id": "d11401ef-29b1-47de-96a8-44f1296269d5",
   "metadata": {},
   "outputs": [],
   "source": [
    "import os\n",
    "import numpy as np\n",
    "import pandas as pd\n",
    "import matplotlib.pyplot as plt\n",
    "import seaborn as sns\n",
    "\n",
    "from PIL import Image\n",
    "from tqdm.notebook import tqdm\n",
    "\n",
    "import torch \n",
    "import torch.nn as nn\n",
    "import torch.nn.functional as F\n",
    "import torch.optim as optim\n",
    "from torch.optim import lr_scheduler\n",
    "from torch.utils.data import DataLoader, TensorDataset, ConcatDataset\n",
    "\n",
    "import torchvision\n",
    "import torchvision.transforms as transforms\n",
    "from torchvision.datasets import ImageFolder"
   ]
  },
  {
   "cell_type": "code",
   "execution_count": null,
   "id": "2d8fdb7a-f87e-4ddd-bf8e-9be98dfba245",
   "metadata": {},
   "outputs": [],
   "source": [
    "device = \"cuda\" if torch.cuda.is_available() else \"cpu\"\n",
    "device"
   ]
  },
  {
   "cell_type": "code",
   "execution_count": 42,
   "id": "028454ef-555b-4c21-907a-e2e34eebb290",
   "metadata": {},
   "outputs": [],
   "source": [
    "df_train = pd.read_csv('./data/train.csv')\n",
    "df_test = pd.read_csv('./data/test.csv')"
   ]
  },
  {
   "cell_type": "code",
   "execution_count": 36,
   "id": "c1108c4d-b325-4367-868d-6642080fa086",
   "metadata": {},
   "outputs": [
    {
     "name": "stdout",
     "output_type": "stream",
     "text": [
      "(42000, 785)\n"
     ]
    }
   ],
   "source": [
    "print(df_train.shape)\n",
    "df_train.head()\n",
    "X = df_train.drop('label', axis=1)\n",
    "y = df_train['label']"
   ]
  },
  {
   "cell_type": "markdown",
   "id": "ca75b7fd-06c5-412f-91e2-88d43c6e0466",
   "metadata": {},
   "source": [
    "#### Preparation data"
   ]
  },
  {
   "cell_type": "code",
   "execution_count": 85,
   "id": "969c48c7-2566-4e02-9876-80995ed0293e",
   "metadata": {},
   "outputs": [],
   "source": [
    "train_path = './data/new_data/train/'\n",
    "test_path = './data/new_data/test/'\n",
    "\n",
    "for i in range(len(X)):\n",
    "    series = X.loc[i]\n",
    "    arr = np.array(series, dtype=np.uint8).reshape(28, 28)\n",
    "    image = Image.fromarray(arr)\n",
    "    path = train_path + f'class_{y[i]}/'\n",
    "    file_name = f'image_{i}.jpg'\n",
    "    file_path = path + file_name\n",
    "    image.save(file_path)\n",
    "\n",
    "for i in range(len(df_test)):\n",
    "    series = df_test.loc[i]\n",
    "    arr = np.array(series, dtype=np.uint8).reshape(28, 28)\n",
    "    image = Image.fromarray(arr)\n",
    "    path = test_path + 'test/'\n",
    "    file_name = f'image_{i}.jpg'\n",
    "    file_path = path + file_name\n",
    "    image.save(file_path)"
   ]
  },
  {
   "cell_type": "markdown",
   "id": "422c7e6e-7908-463b-bf5d-ffb8441908b4",
   "metadata": {},
   "source": [
    "#### Preparation train and test data"
   ]
  },
  {
   "cell_type": "code",
   "execution_count": 86,
   "id": "13fd42f3-20ac-41c4-b5fd-34265693a029",
   "metadata": {},
   "outputs": [],
   "source": [
    "transform = transforms.Compose([\n",
    "    transforms.ToTensor(),\n",
    "])\n",
    "\n",
    "vertical_flip_probability = 0.5\n",
    "aug_transform = transforms.Compose([\n",
    "    transforms.RandomVerticalFlip(p=vertical_flip_probability),\n",
    "    transforms.RandomRotation(degrees=(-25, 25)),\n",
    "    transforms.ToTensor(),\n",
    "])\n",
    "\n",
    "train_image_folder = ImageFolder(root=train_path, transform=transform)\n",
    "train_image_folder_aug = ImageFolder(root=train_path, transform=aug_transform)\n",
    "train_image_folder = ConcatDataset([train_image_folder, train_image_folder_aug])\n",
    "\n",
    "test_image_folder = ImageFolder(root=test_path)"
   ]
  },
  {
   "cell_type": "code",
   "execution_count": 90,
   "id": "d201f1c0-f028-4ded-b702-f75b9f322a02",
   "metadata": {},
   "outputs": [],
   "source": [
    "batch_size = 32\n",
    "train_loader = DataLoader(train_image_folder, batch_size=batch_size, shuffle=True, num_workers=2)\n",
    "test_loader = DataLoader(test_image_folder, shuffle=False, num_workers=2)"
   ]
  },
  {
   "cell_type": "markdown",
   "id": "32d2a7ac-74d7-45f9-a726-250047347bba",
   "metadata": {},
   "source": [
    "#### Train Model"
   ]
  },
  {
   "cell_type": "code",
   "execution_count": 97,
   "id": "0d4c7397-e75d-4a75-95e9-5cd986f7c586",
   "metadata": {},
   "outputs": [],
   "source": [
    "class LeNet(nn.Module):\n",
    "    def __init__(self):\n",
    "        super(LeNet, self).__init__()\n",
    "        self.conv1 = nn.Conv2d(in_channels=1, out_channels=6, kernel_size=5, padding=2)\n",
    "        self.conv2 = nn.Conv2d(in_channels=6, out_channels=16, kernel_size=5)\n",
    "        self.fc1 = nn.Linear(in_features=16*4*4, out_features=120)\n",
    "        self.fc2 = nn.Linear(in_features=120, out_features=84)\n",
    "        self.fc3 = nn.Linear(in_features=84, out_features=10)\n",
    "\n",
    "    def forward(self, x):\n",
    "        x = self.conv1(x)\n",
    "        x = F.relu(x)\n",
    "        x = F.avg_pool2d(kernel_size=2, stride=2)\n",
    "        x = self.conv2(x)\n",
    "        x = F.relu(x)\n",
    "        x = x.view(x.size(0), -1)\n",
    "        x = F.relu(self.fc1(x))\n",
    "        x = F.relu(self.fc2(x))\n",
    "        x = F.relu(self.fc2(x))\n",
    "        return x\n",
    "\n",
    "model = LeNet()\n",
    "# model.to(device)\n",
    "opt = optim.Adam(params=model.parameters(), lr=0.001)\n",
    "lr_scheduler = lr_scheduler.MultiStepLR(opt, milestones=[7, 10], gamma=0.5)"
   ]
  }
 ],
 "metadata": {
  "kernelspec": {
   "display_name": "Python 3 (ipykernel)",
   "language": "python",
   "name": "python3"
  },
  "language_info": {
   "codemirror_mode": {
    "name": "ipython",
    "version": 3
   },
   "file_extension": ".py",
   "mimetype": "text/x-python",
   "name": "python",
   "nbconvert_exporter": "python",
   "pygments_lexer": "ipython3",
   "version": "3.8.17"
  }
 },
 "nbformat": 4,
 "nbformat_minor": 5
}
