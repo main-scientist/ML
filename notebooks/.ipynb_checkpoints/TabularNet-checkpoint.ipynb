{
 "cells": [
  {
   "cell_type": "code",
   "execution_count": 45,
   "id": "a636c056-d460-44e2-a14e-f753574717c2",
   "metadata": {},
   "outputs": [],
   "source": [
    "import numpy as np\n",
    "import pandas as pd\n",
    "import matplotlib.pyplot as plt\n",
    "import seaborn as sns\n",
    "from tqdm.notebook import tqdm\n",
    "\n",
    "from sklearn.preprocessing import StandardScaler\n",
    "from sklearn.model_selection import train_test_split\n",
    "from torch.optim import lr_scheduler\n",
    "\n",
    "import torch\n",
    "import torch.nn as nn\n",
    "import torch.optim as optim\n",
    "from torch.utils.data import TensorDataset, DataLoader\n",
    "\n",
    "sns.set(style=\"darkgrid\")"
   ]
  },
  {
   "cell_type": "code",
   "execution_count": 26,
   "id": "5a4fabba-7002-4486-bd55-e3ce64106612",
   "metadata": {},
   "outputs": [
    {
     "data": {
      "text/plain": [
       "'mps'"
      ]
     },
     "execution_count": 26,
     "metadata": {},
     "output_type": "execute_result"
    }
   ],
   "source": [
    "device = \"mps\" if torch.backends.mps.is_available() else \"cpu\"\n",
    "device"
   ]
  },
  {
   "cell_type": "code",
   "execution_count": 3,
   "id": "53371f94-5844-46f5-bfc7-63cdfb1744fe",
   "metadata": {},
   "outputs": [],
   "source": [
    "df_train = pd.read_csv(\"../data/dataset/train.csv\")\n",
    "df_test = pd.read_csv(\"../data/dataset/test.csv\")\n",
    "df_train = df_train.drop(\"id\", axis=1)\n",
    "df_test = df_test.drop(\"id\", axis=1)"
   ]
  },
  {
   "cell_type": "code",
   "execution_count": 6,
   "id": "43c1b2c2-b729-4bc1-94d5-fa6584a73f18",
   "metadata": {},
   "outputs": [],
   "source": [
    "scaler = StandardScaler()\n",
    "scaler.fit(df_train.drop(\"MedHouseVal\", axis=1).values)\n",
    "df_X = pd.DataFrame(scaler.transform(df_train.drop(\"MedHouseVal\", axis=1).values))\n",
    "df_y = df_train[\"MedHouseVal\"]\n",
    "X_test = pd.DataFrame(scaler.transform(df_test.values))"
   ]
  },
  {
   "cell_type": "code",
   "execution_count": 9,
   "id": "666aa3a1-9427-41a5-a5a2-53aeae0e0604",
   "metadata": {},
   "outputs": [],
   "source": [
    "X_train, X_val, y_train, y_val = train_test_split(df_X, df_y, test_size=0.2, random_state=0, shuffle=True)"
   ]
  },
  {
   "cell_type": "code",
   "execution_count": 71,
   "id": "9783aa10-ad93-4a28-aa0c-895cd4d7c87e",
   "metadata": {},
   "outputs": [],
   "source": [
    "X_train_t = torch.FloatTensor(X_train.values)\n",
    "X_val_t = torch.FloatTensor(X_val.values)\n",
    "y_train_t = torch.FloatTensor(y_train.values)\n",
    "y_val_t = torch.FloatTensor(y_val.values)\n",
    "\n",
    "batch_size = 32\n",
    "train_loader = DataLoader(train_dataset, batch_size=batch_size, shuffle=True)\n",
    "test_loader = DataLoader(test_dataset, batch_size=batch_size, shuffle=False)"
   ]
  },
  {
   "cell_type": "code",
   "execution_count": 67,
   "id": "77556306-32a0-47ae-9eab-ffe7cbecb691",
   "metadata": {},
   "outputs": [],
   "source": [
    "# X_t = torch.FloatTensor(df_X.values)\n",
    "# y_t = torch.FloatTensor(df_y.values)\n",
    "# X_test_t = torch.FloatTensor(X_test.values)\n",
    "# dataset = TensorDataset(X_t, y_t)\n",
    "# batch_size = 32\n",
    "# train_loader = DataLoader(dataset, batch_size=batch_size, shuffle=True)\n",
    "# test_loader = DataLoader(X_test_t, shuffle=False)"
   ]
  },
  {
   "cell_type": "code",
   "execution_count": 75,
   "id": "0bb70a8f-a44b-4a52-88bc-e924a663c2a1",
   "metadata": {},
   "outputs": [],
   "source": [
    "class TabularNet(nn.Module):\n",
    "    def __init__(self):\n",
    "        super(TabularNet, self).__init__()\n",
    "        self.fc_1 = nn.Linear(8, 16)\n",
    "        self.norm_1 = nn.BatchNorm1d(16)\n",
    "        self.fc_2 = nn.Linear(16, 8)\n",
    "        self.norm_2 = nn.BatchNorm1d(8)\n",
    "        self.fc_3 = nn.Linear(8, 1)\n",
    "\n",
    "    def forward(self, x):\n",
    "        x = x.view(x.shape[0], -1)\n",
    "        x = torch.relu(self.fc_1(x))\n",
    "        x = self.norm_1(x)\n",
    "        x = torch.relu(self.fc_2(x))\n",
    "        x = self.norm_2(x)\n",
    "        x = self.fc_3(x)\n",
    "        return x"
   ]
  },
  {
   "cell_type": "code",
   "execution_count": 73,
   "id": "c8bb9f0b-bc55-4127-8f6c-a2f706851366",
   "metadata": {},
   "outputs": [],
   "source": [
    "def fit(model, optimizer, criterion, train_loader, test_loader, epochs, scheduler):\n",
    "    hist_train_loss = []\n",
    "    hist_test_loss = []\n",
    "    model.train()\n",
    "    for epoch in tqdm(range(epochs)):\n",
    "        avg_loss = 0\n",
    "        for xb, yb in train_loader:\n",
    "            xb, yb = xb.to(device), yb.to(device)\n",
    "            output = model(xb).squeeze()\n",
    "            loss = criterion(output, yb)\n",
    "            avg_loss += loss.item()\n",
    "            optimizer.zero_grad()\n",
    "            loss.backward()\n",
    "            optimizer.step()\n",
    "        hist_train_loss.append(avg_loss / len(train_loader))\n",
    "        scheduler.step()\n",
    "\n",
    "        avg_loss = 0\n",
    "        model.eval()\n",
    "        with torch.no_grad():\n",
    "            for xb, yb in test_loader:\n",
    "                xb, yb = xb.to(device), yb.to(device)\n",
    "                output = model(xb).squeeze()\n",
    "                loss = criterion(output, yb)\n",
    "                avg_loss += loss.item()\n",
    "            hist_test_loss.append(avg_loss / len(test_loader))\n",
    "\n",
    "        # print(f'Epoch [{epoch+1}/{epochs}],  train_loss: {hist_train_loss[-1]:.4f}')\n",
    "        print(f'Epoch [{epoch+1}/{epochs}],  train_loss: {hist_train_loss[-1]:.4f},  train_loss: {hist_test_loss[-1]:.4f}')\n",
    "\n",
    "    return hist_train_loss, hist_test_loss"
   ]
  },
  {
   "cell_type": "code",
   "execution_count": 76,
   "id": "11ecade7-b366-4570-bbfc-985d3f0dbff6",
   "metadata": {},
   "outputs": [
    {
     "data": {
      "application/vnd.jupyter.widget-view+json": {
       "model_id": "5bf0a632fe424fb7810f8efa8284a52f",
       "version_major": 2,
       "version_minor": 0
      },
      "text/plain": [
       "  0%|          | 0/20 [00:00<?, ?it/s]"
      ]
     },
     "metadata": {},
     "output_type": "display_data"
    },
    {
     "name": "stdout",
     "output_type": "stream",
     "text": [
      "Epoch [1/20],  train_loss: 0.5920,  train_loss: 0.4243\n",
      "Epoch [2/20],  train_loss: 0.4351,  train_loss: 0.4182\n",
      "Epoch [3/20],  train_loss: 0.4223,  train_loss: 0.4132\n",
      "Epoch [4/20],  train_loss: 0.4181,  train_loss: 0.4090\n",
      "Epoch [5/20],  train_loss: 0.4147,  train_loss: 0.4516\n",
      "Epoch [6/20],  train_loss: 0.4104,  train_loss: 0.4046\n",
      "Epoch [7/20],  train_loss: 0.4105,  train_loss: 0.4067\n",
      "Epoch [8/20],  train_loss: 0.4052,  train_loss: 0.4082\n",
      "Epoch [9/20],  train_loss: 0.4070,  train_loss: 0.3943\n",
      "Epoch [10/20],  train_loss: 0.4040,  train_loss: 0.3993\n",
      "Epoch [11/20],  train_loss: 0.3924,  train_loss: 0.3955\n",
      "Epoch [12/20],  train_loss: 0.3899,  train_loss: 0.3968\n",
      "Epoch [13/20],  train_loss: 0.3908,  train_loss: 0.3906\n",
      "Epoch [14/20],  train_loss: 0.3896,  train_loss: 0.3972\n",
      "Epoch [15/20],  train_loss: 0.3888,  train_loss: 0.3980\n",
      "Epoch [16/20],  train_loss: 0.3817,  train_loss: 0.3848\n",
      "Epoch [17/20],  train_loss: 0.3809,  train_loss: 0.3811\n",
      "Epoch [18/20],  train_loss: 0.3800,  train_loss: 0.3870\n",
      "Epoch [19/20],  train_loss: 0.3804,  train_loss: 0.3887\n",
      "Epoch [20/20],  train_loss: 0.3791,  train_loss: 0.3804\n"
     ]
    }
   ],
   "source": [
    "model = TabularNet()\n",
    "model.to(device)\n",
    "criterion = nn.MSELoss()\n",
    "optimizer = torch.optim.Adam(model.parameters(), lr=0.01)\n",
    "scheduler = lr_scheduler.MultiStepLR(optimizer, milestones=[10, 15], gamma=0.5)\n",
    "epochs = 20\n",
    "hist = fit(model, optimizer, criterion, train_loader, test_loader, epochs, scheduler)"
   ]
  },
  {
   "cell_type": "code",
   "execution_count": 77,
   "id": "cf0d7ff6-e39e-4b7a-91f3-f482edda9bdf",
   "metadata": {},
   "outputs": [
    {
     "data": {
      "image/png": "[encoded data removed]",
      "text/plain": [
       "<Figure size 900x300 with 1 Axes>"
      ]
     },
     "metadata": {},
     "output_type": "display_data"
    }
   ],
   "source": [
    "x = range(epochs)\n",
    "fig = plt.figure(figsize=(9, 3))\n",
    "sns.lineplot(x=x, y=hist[0], label=\"mse_train\")\n",
    "sns.lineplot(x=x, y=hist[1], label=\"mse_test\")\n",
    "\n",
    "plt.xticks(range(epochs+1))\n",
    "plt.legend()\n",
    "plt.show()"
   ]
  },
  {
   "cell_type": "code",
   "execution_count": 68,
   "id": "43734c5d-ff2f-403d-bf4d-cd40c0661590",
   "metadata": {},
   "outputs": [],
   "source": [
    "def predict(model, X):\n",
    "    y_pred = []\n",
    "    with torch.no_grad():\n",
    "        for xb in X:\n",
    "            xb = xb.to(device)\n",
    "            output = model(xb)\n",
    "            y_pred.append(output.item())\n",
    "    return y_pred"
   ]
  },
  {
   "cell_type": "code",
   "execution_count": 70,
   "id": "e4140097-dfcf-4bf5-98f8-f123b8ddec8b",
   "metadata": {},
   "outputs": [],
   "source": [
    "df_ans = pd.read_csv(\"../data/dataset/sample_submission.csv\")\n",
    "df_ans[\"MedHouseVal\"] = predict(model, test_loader)\n",
    "df_ans.to_csv(\"ans_4.csv\", index=False)"
   ]
  }
 ],
 "metadata": {
  "kernelspec": {
   "display_name": "Python 3 (ipykernel)",
   "language": "python",
   "name": "python3"
  },
  "language_info": {
   "codemirror_mode": {
    "name": "ipython",
    "version": 3
   },
   "file_extension": ".py",
   "mimetype": "text/x-python",
   "name": "python",
   "nbconvert_exporter": "python",
   "pygments_lexer": "ipython3",
   "version": "3.8.17"
  }
 },
 "nbformat": 4,
 "nbformat_minor": 5
}
