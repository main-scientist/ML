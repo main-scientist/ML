{
 "cells": [
  {
   "cell_type": "code",
   "execution_count": 1,
   "id": "490a0d85-2455-40b2-8fa9-c047778dbb13",
   "metadata": {},
   "outputs": [],
   "source": [
    "import numpy as np\n",
    "import pandas as pd\n",
    "import matplotlib.pyplot as plt\n",
    "import seaborn as sns\n",
    "\n",
    "sns.set(style='darkgrid')\n",
    "from tqdm.notebook import tqdm\n",
    "from PIL import Image\n",
    "\n",
    "import torch \n",
    "import torch.nn as nn\n",
    "import torch.nn.functional as F\n",
    "import torch.optim as optim\n",
    "from torch.optim import lr_scheduler\n",
    "from torch.utils.data import DataLoader, TensorDataset, ConcatDataset\n",
    "\n",
    "import torchvision\n",
    "from torchvision.models import alexnet\n",
    "import torchvision.transforms as transforms\n",
    "\n",
    "from sklearn.metrics import accuracy_score"
   ]
  },
  {
   "cell_type": "code",
   "execution_count": 2,
   "id": "b01f159a-ee08-44b8-a7e4-b5ad33404b36",
   "metadata": {},
   "outputs": [
    {
     "data": {
      "text/plain": [
       "'mps'"
      ]
     },
     "execution_count": 2,
     "metadata": {},
     "output_type": "execute_result"
    }
   ],
   "source": [
    "device = 'mps' if torch.backends.mps.is_available else 'cpu'\n",
    "device"
   ]
  },
  {
   "cell_type": "code",
   "execution_count": 3,
   "id": "a59a6861-4236-4877-a5e2-66d33de9d42a",
   "metadata": {},
   "outputs": [],
   "source": [
    "df_train = pd.read_csv('data/fashion-mnist_train.csv')\n",
    "df_test = pd.read_csv('data/fashion-mnist_test.csv')"
   ]
  },
  {
   "cell_type": "markdown",
   "id": "6bc4e017-688a-4623-ad94-6ac6877725f2",
   "metadata": {},
   "source": [
    "#### EDA"
   ]
  },
  {
   "cell_type": "code",
   "execution_count": 4,
   "id": "ba92d44f-036c-4826-b1c5-c5db3114efb1",
   "metadata": {},
   "outputs": [
    {
     "name": "stdout",
     "output_type": "stream",
     "text": [
      "[2 9 6 0 3 4 5 8 7 1]\n",
      "Количество уникальных значений: 10\n"
     ]
    }
   ],
   "source": [
    "print(df_train['label'].unique())\n",
    "unique_count = df_train['label'].nunique()\n",
    "print(\"Количество уникальных значений:\", unique_count)"
   ]
  },
  {
   "cell_type": "code",
   "execution_count": 5,
   "id": "5f9e191e-32cd-4b59-bb44-2abeaafbc05d",
   "metadata": {},
   "outputs": [],
   "source": [
    "X_train = df_train.drop('label', axis=1)\n",
    "y_train = df_train['label']\n",
    "X_train = X_train.values.reshape(-1, 28, 28, 1)\n",
    "\n",
    "X_test = df_test.drop('label', axis=1)\n",
    "y_test = df_test['label']\n",
    "X_test = X_test.values.reshape(-1, 28, 28, 1)"
   ]
  },
  {
   "cell_type": "code",
   "execution_count": 6,
   "id": "e7ae38fe-d13d-4a0b-a67c-26bd43cbedb2",
   "metadata": {
    "scrolled": true
   },
   "outputs": [
    {
     "data": {
      "image/png": "[encoded data removed]",
      "text/plain": [
       "<Figure size 1400x300 with 16 Axes>"
      ]
     },
     "metadata": {},
     "output_type": "display_data"
    }
   ],
   "source": [
    "fig, ax = plt.subplots(ncols=8, nrows=2, figsize=(14, 3))\n",
    "n = 0\n",
    "for i in range(2):\n",
    "    for j in range(8):\n",
    "        ax[i][j].imshow(X_train[n], cmap='gray')\n",
    "        ax[i][j].axis(False)\n",
    "        n += 1\n",
    "plt.show()"
   ]
  },
  {
   "cell_type": "code",
   "execution_count": 7,
   "id": "1496b0f6-6262-410c-90a7-5aa9289c9b44",
   "metadata": {},
   "outputs": [],
   "source": [
    "X_train = X_train.reshape(-1, 1, 28, 28)\n",
    "X_test = X_test.reshape(-1, 1, 28, 28)\n",
    "\n",
    "X_train_tesor = torch.tensor(data=X_train, dtype=torch.float32)\n",
    "y_train_tesor = torch.tensor(data=y_train, dtype=torch.long)\n",
    "\n",
    "X_test_tesor = torch.tensor(data=X_test, dtype=torch.float32)\n",
    "y_test_tesor = torch.tensor(data=y_test, dtype=torch.long)\n",
    "\n",
    "transform_aug = transforms.Compose([\n",
    "    transforms.RandomVerticalFlip(),\n",
    "    transforms.RandomRotation((-25, 25)),\n",
    "])\n",
    "\n",
    "X_train_tesor /= 255.0\n",
    "X_test_tesor /= 255.0\n",
    "\n",
    "augm_X_train = []\n",
    "for image in X_train_tesor:\n",
    "    aug_image = transform_aug(image)\n",
    "    augm_X_train.append(aug_image)\n",
    "\n",
    "augm_X_train = torch.stack(augm_X_train)\n",
    "X_train_combined = torch.cat((X_train_tesor, augm_X_train), dim=0)\n",
    "y_train_combined = torch.cat((y_train_tesor, y_train_tesor), dim=0)\n",
    "\n",
    "\n",
    "dataset_train = TensorDataset(X_train_combined, y_train_combined)\n",
    "# dataset_train = TensorDataset(X_train_tesor, y_train_tesor)\n",
    "dataset_test = TensorDataset(X_test_tesor, y_test_tesor)\n",
    "\n",
    "batch_size = 64\n",
    "train_loader = DataLoader(dataset_train, batch_size=batch_size, shuffle=True)\n",
    "test_loader = DataLoader(dataset_test, shuffle=False)"
   ]
  },
  {
   "cell_type": "markdown",
   "id": "7ab82085-ec3f-41e0-b7b9-3fc3d65b161a",
   "metadata": {},
   "source": [
    "#### Init Model"
   ]
  },
  {
   "cell_type": "code",
   "execution_count": 17,
   "id": "58082b4b-283d-450d-b400-bf1236677945",
   "metadata": {},
   "outputs": [
    {
     "data": {
      "text/plain": [
       "FashionMNISTNet(\n",
       "  (conv1): Conv2d(1, 32, kernel_size=(3, 3), stride=(1, 1), padding=(1, 1))\n",
       "  (conv2): Conv2d(32, 64, kernel_size=(3, 3), stride=(1, 1), padding=(1, 1))\n",
       "  (fc1): Linear(in_features=3136, out_features=128, bias=True)\n",
       "  (fc2): Linear(in_features=128, out_features=10, bias=True)\n",
       ")"
      ]
     },
     "execution_count": 17,
     "metadata": {},
     "output_type": "execute_result"
    }
   ],
   "source": [
    "# class FashionMNISTNet(nn.Module):\n",
    "#     def __init__(self):\n",
    "#         super(FashionMNISTNet, self).__init__()\n",
    "\n",
    "#         self.conv1 = nn.Conv2d(1, 32, kernel_size=3, padding=1)\n",
    "#         # self.norm1 = nn.BatchNorm2d(32)\n",
    "#         self.conv2 = nn.Conv2d(32, 64, kernel_size=3, padding=1)\n",
    "#         # self.norm2 = nn.BatchNorm2d(64)\n",
    "\n",
    "#         self.fc1 = nn.Linear(64 * 7 * 7, 128)\n",
    "#         self.fc2 = nn.Linear(128, 10)\n",
    "\n",
    "#     def forward(self, x):\n",
    "#         x = F.relu(self.conv1(x))\n",
    "#         x = F.max_pool2d(x, 2)\n",
    "#         x = F.relu(self.conv2(x))\n",
    "#         x = F.max_pool2d(x, 2)\n",
    "#         x = x.view(x.size(0), -1)\n",
    "#         x = F.relu(self.fc1(x))\n",
    "#         x = self.fc2(x)\n",
    "#         return x\n",
    "\n",
    "# model = FashionMNISTNet()\n",
    "# model.to(device)"
   ]
  },
  {
   "cell_type": "code",
   "execution_count": 8,
   "id": "a2243f12-82d7-4904-9bee-5b688b7a8d16",
   "metadata": {},
   "outputs": [
    {
     "data": {
      "text/plain": [
       "VGG8(\n",
       "  (conv_1): Conv2d(1, 6, kernel_size=(3, 3), stride=(1, 1), padding=(1, 1))\n",
       "  (norm_1): BatchNorm2d(6, eps=1e-05, momentum=0.1, affine=True, track_running_stats=True)\n",
       "  (conv_2): Conv2d(6, 16, kernel_size=(3, 3), stride=(1, 1), padding=(1, 1))\n",
       "  (norm_2): BatchNorm2d(16, eps=1e-05, momentum=0.1, affine=True, track_running_stats=True)\n",
       "  (conv_3): Conv2d(16, 32, kernel_size=(3, 3), stride=(1, 1), padding=(1, 1))\n",
       "  (norm_3): BatchNorm2d(32, eps=1e-05, momentum=0.1, affine=True, track_running_stats=True)\n",
       "  (pool): MaxPool2d(kernel_size=2, stride=2, padding=0, dilation=1, ceil_mode=False)\n",
       "  (fc_1): Linear(in_features=288, out_features=128, bias=True)\n",
       "  (fc_2): Linear(in_features=128, out_features=128, bias=True)\n",
       "  (fc_3): Linear(in_features=128, out_features=10, bias=True)\n",
       ")"
      ]
     },
     "execution_count": 8,
     "metadata": {},
     "output_type": "execute_result"
    }
   ],
   "source": [
    "class VGG8(nn.Module):\n",
    "    def __init__(self):\n",
    "        super(VGG8, self).__init__()\n",
    "        self.conv_1 = nn.Conv2d(1, 6, kernel_size=3, padding=1)\n",
    "        self.norm_1 = nn.BatchNorm2d(6)\n",
    "        self.conv_2 = nn.Conv2d(6, 16, kernel_size=3, padding=1)\n",
    "        self.norm_2 = nn.BatchNorm2d(16)\n",
    "        self.conv_3 = nn.Conv2d(16, 32, kernel_size=3, padding=1)\n",
    "        self.norm_3 = nn.BatchNorm2d(32)\n",
    "        self.pool = nn.MaxPool2d(kernel_size=2, stride=2)\n",
    "        self.fc_1 = nn.Linear(32*3*3, 128)\n",
    "        self.fc_2 = nn.Linear(128, 128)\n",
    "        self.fc_3 = nn.Linear(128, 10)\n",
    "\n",
    "    def forward(self, x):\n",
    "        x = F.relu(self.conv_1(x))\n",
    "        x = self.norm_1(x)\n",
    "        x = self.pool(x)\n",
    "\n",
    "        x = F.relu(self.conv_2(x))\n",
    "        x = self.norm_2(x)\n",
    "        x = self.pool(x)\n",
    "\n",
    "        x = F.relu(self.conv_3(x))\n",
    "        x = self.norm_3(x)\n",
    "        x = self.pool(x)\n",
    "\n",
    "        x = x.view(x.size(0), -1)\n",
    "        x = F.relu(self.fc_1(x))\n",
    "        x = F.relu(self.fc_2(x))\n",
    "        x = self.fc_3(x)\n",
    "        return x\n",
    "\n",
    "model = VGG8()\n",
    "model.to(device)"
   ]
  },
  {
   "cell_type": "code",
   "execution_count": null,
   "id": "827ccd9a-133c-4fb8-9725-4f18b9bb0cdc",
   "metadata": {},
   "outputs": [],
   "source": [
    "# class LeNet(nn.Module):\n",
    "#     def __init__(self):\n",
    "#         super(LeNet, self).__init__*(\n",
    "#             self.conv_1 = nn.Conv2d(1, 6, kernel_size=5, padding=2)\n",
    "#             self.conv_2 = nn.Conv2d(6, 15, kernel_size=5)\n",
    "#             self.pool = nn.MaxPool2d(kernel_size=2, stride=2)\n",
    "            \n",
    "#             self.fc_1 = nn.Linear(400, 120)\n",
    "#             self.fc_2 = nn.Linear(120, 84)\n",
    "#             self.fc_3 = nn.Linear(84, 10)\n",
    "\n",
    "#     def forward(self, x):\n",
    "#         x = F.relu(self.conv_1(x))\n",
    "#         x = self.pool(x)\n",
    "#         x = F.relu(self.conv_2(x))\n",
    "#         x = self.pool(x)\n",
    "#         x = F.relu(self.fc_1(x))\n",
    "#         x = F.relu(self.fc_2(x))\n",
    "#         x = self.fc_3(x)\n",
    "#         return x\n",
    "\n",
    "# model = LeNet()\n",
    "# model.to(device)"
   ]
  },
  {
   "cell_type": "markdown",
   "id": "b0fd9a07-8575-4f13-9a20-ab7fd75afe8b",
   "metadata": {},
   "source": [
    "#### Train"
   ]
  },
  {
   "cell_type": "code",
   "execution_count": 9,
   "id": "8661d15d-24f4-40d9-b8ea-96306a420ab1",
   "metadata": {},
   "outputs": [],
   "source": [
    "def fit(model, loss_func, opt, train_loader, test_loader, epochs, scheduler):\n",
    "    train_loss_hist = []\n",
    "    test_loss_hist = []\n",
    "    accuracy_hist = []\n",
    "    \n",
    "    for epoch in tqdm(range(epochs)):\n",
    "        model.train()\n",
    "        avg_loss = 0\n",
    "        for xb, yb in tqdm(train_loader, desc=f'train {epoch+1} epoch'):\n",
    "            xb, yb = xb.to(device), yb.to(device)\n",
    "            opt.zero_grad()\n",
    "            loss = loss_func(model(xb), yb)\n",
    "            loss.backward()\n",
    "            opt.step()\n",
    "            avg_loss += loss.item()\n",
    "        train_loss_hist.append(avg_loss / len(train_loader))\n",
    "        scheduler.step()\n",
    "\n",
    "        with torch.no_grad():\n",
    "            model.eval()\n",
    "            y_pred = []\n",
    "            y_true = []\n",
    "            avg_loss = 0\n",
    "            for x, y in tqdm(test_loader, desc=f'test {epoch+1} epoch'):\n",
    "                x, y = x.to(device), y.to(device)\n",
    "                output = model(x)\n",
    "                loss = loss_func(output, y)\n",
    "                avg_loss += loss.item()\n",
    "                logit = torch.softmax(output, dim=1)\n",
    "                _, pred = torch.max(logit, dim=1)\n",
    "                y_pred.append(pred.item())\n",
    "                y_true.append(y.item())\n",
    "            test_loss_hist.append(avg_loss / len(test_loader))\n",
    "            accuracy_hist.append(accuracy_score(y_true, y_pred))\n",
    "\n",
    "        train_loss = round(train_loss_hist[-1], 5)\n",
    "        test_loss = round(test_loss_hist[-1], 5)\n",
    "        accuracy = round(accuracy_hist[-1], 5)\n",
    "        lr = scheduler.get_last_lr()[0]\n",
    "        \n",
    "        print(f\"Epoch {epoch+1}'st: train_loss = {train_loss}, test_loss = {test_loss}, accuracy = {accuracy}, lr = {lr}\")\n",
    "\n",
    "    return train_loss_hist, test_loss_hist, accuracy_hist"
   ]
  },
  {
   "cell_type": "code",
   "execution_count": 13,
   "id": "3f34ce3f-3ee1-455b-a3da-41ab08356f41",
   "metadata": {},
   "outputs": [
    {
     "data": {
      "application/vnd.jupyter.widget-view+json": {
       "model_id": "c9755628a1c647269ce5180cdc01378c",
       "version_major": 2,
       "version_minor": 0
      },
      "text/plain": [
       "  0%|          | 0/15 [00:00<?, ?it/s]"
      ]
     },
     "metadata": {},
     "output_type": "display_data"
    },
    {
     "data": {
      "application/vnd.jupyter.widget-view+json": {
       "model_id": "58ddae7e5bfe4c14b0e980414e95fa10",
       "version_major": 2,
       "version_minor": 0
      },
      "text/plain": [
       "train 1 epoch:   0%|          | 0/1875 [00:00<?, ?it/s]"
      ]
     },
     "metadata": {},
     "output_type": "display_data"
    },
    {
     "data": {
      "application/vnd.jupyter.widget-view+json": {
       "model_id": "c7d84b1477014e2bacb4fe9353d4618c",
       "version_major": 2,
       "version_minor": 0
      },
      "text/plain": [
       "test 1 epoch:   0%|          | 0/10000 [00:00<?, ?it/s]"
      ]
     },
     "metadata": {},
     "output_type": "display_data"
    },
    {
     "name": "stdout",
     "output_type": "stream",
     "text": [
      "Epoch 1'st: train_loss = 0.15549, test_loss = 0.30038, accuracy = 0.9079, lr = 0.001\n"
     ]
    },
    {
     "data": {
      "application/vnd.jupyter.widget-view+json": {
       "model_id": "50da4d1e11b2411e96acca205fa072bd",
       "version_major": 2,
       "version_minor": 0
      },
      "text/plain": [
       "train 2 epoch:   0%|          | 0/1875 [00:00<?, ?it/s]"
      ]
     },
     "metadata": {},
     "output_type": "display_data"
    },
    {
     "data": {
      "application/vnd.jupyter.widget-view+json": {
       "model_id": "442bd18340ec43dfb7f49b69adbb8a8a",
       "version_major": 2,
       "version_minor": 0
      },
      "text/plain": [
       "test 2 epoch:   0%|          | 0/10000 [00:00<?, ?it/s]"
      ]
     },
     "metadata": {},
     "output_type": "display_data"
    },
    {
     "name": "stdout",
     "output_type": "stream",
     "text": [
      "Epoch 2'st: train_loss = 0.15202, test_loss = 0.30799, accuracy = 0.9068, lr = 0.001\n"
     ]
    },
    {
     "data": {
      "application/vnd.jupyter.widget-view+json": {
       "model_id": "83bd69108f634b27be139c1ef02827b5",
       "version_major": 2,
       "version_minor": 0
      },
      "text/plain": [
       "train 3 epoch:   0%|          | 0/1875 [00:00<?, ?it/s]"
      ]
     },
     "metadata": {},
     "output_type": "display_data"
    },
    {
     "data": {
      "application/vnd.jupyter.widget-view+json": {
       "model_id": "f2062bd9b2a54c57a8c6ec38f5299c8c",
       "version_major": 2,
       "version_minor": 0
      },
      "text/plain": [
       "test 3 epoch:   0%|          | 0/10000 [00:00<?, ?it/s]"
      ]
     },
     "metadata": {},
     "output_type": "display_data"
    },
    {
     "name": "stdout",
     "output_type": "stream",
     "text": [
      "Epoch 3'st: train_loss = 0.14627, test_loss = 0.30253, accuracy = 0.911, lr = 0.001\n"
     ]
    },
    {
     "data": {
      "application/vnd.jupyter.widget-view+json": {
       "model_id": "b04356ecadd844a386e9f5726d0c2c4e",
       "version_major": 2,
       "version_minor": 0
      },
      "text/plain": [
       "train 4 epoch:   0%|          | 0/1875 [00:00<?, ?it/s]"
      ]
     },
     "metadata": {},
     "output_type": "display_data"
    },
    {
     "data": {
      "application/vnd.jupyter.widget-view+json": {
       "model_id": "b72538b34f1f4f93bf152428192158cf",
       "version_major": 2,
       "version_minor": 0
      },
      "text/plain": [
       "test 4 epoch:   0%|          | 0/10000 [00:00<?, ?it/s]"
      ]
     },
     "metadata": {},
     "output_type": "display_data"
    },
    {
     "name": "stdout",
     "output_type": "stream",
     "text": [
      "Epoch 4'st: train_loss = 0.14207, test_loss = 0.30316, accuracy = 0.9123, lr = 0.001\n"
     ]
    },
    {
     "data": {
      "application/vnd.jupyter.widget-view+json": {
       "model_id": "858f063e02b0410aa2afee7918fb48c7",
       "version_major": 2,
       "version_minor": 0
      },
      "text/plain": [
       "train 5 epoch:   0%|          | 0/1875 [00:00<?, ?it/s]"
      ]
     },
     "metadata": {},
     "output_type": "display_data"
    },
    {
     "data": {
      "application/vnd.jupyter.widget-view+json": {
       "model_id": "76ed7f73bd6f4f3a9764562ead86750d",
       "version_major": 2,
       "version_minor": 0
      },
      "text/plain": [
       "test 5 epoch:   0%|          | 0/10000 [00:00<?, ?it/s]"
      ]
     },
     "metadata": {},
     "output_type": "display_data"
    },
    {
     "name": "stdout",
     "output_type": "stream",
     "text": [
      "Epoch 5'st: train_loss = 0.13418, test_loss = 0.31826, accuracy = 0.9069, lr = 0.001\n"
     ]
    },
    {
     "data": {
      "application/vnd.jupyter.widget-view+json": {
       "model_id": "9a4988cdff07470ba21a0bc147fa168b",
       "version_major": 2,
       "version_minor": 0
      },
      "text/plain": [
       "train 6 epoch:   0%|          | 0/1875 [00:00<?, ?it/s]"
      ]
     },
     "metadata": {},
     "output_type": "display_data"
    },
    {
     "data": {
      "application/vnd.jupyter.widget-view+json": {
       "model_id": "8205efa5a5444236877fabbca1fec56f",
       "version_major": 2,
       "version_minor": 0
      },
      "text/plain": [
       "test 6 epoch:   0%|          | 0/10000 [00:00<?, ?it/s]"
      ]
     },
     "metadata": {},
     "output_type": "display_data"
    },
    {
     "name": "stdout",
     "output_type": "stream",
     "text": [
      "Epoch 6'st: train_loss = 0.13185, test_loss = 0.32408, accuracy = 0.9075, lr = 0.001\n"
     ]
    },
    {
     "data": {
      "application/vnd.jupyter.widget-view+json": {
       "model_id": "15d9ab91c2194aad81feac7e92c01536",
       "version_major": 2,
       "version_minor": 0
      },
      "text/plain": [
       "train 7 epoch:   0%|          | 0/1875 [00:00<?, ?it/s]"
      ]
     },
     "metadata": {},
     "output_type": "display_data"
    },
    {
     "data": {
      "application/vnd.jupyter.widget-view+json": {
       "model_id": "49c293485f9845a6b1fdd84f13bde942",
       "version_major": 2,
       "version_minor": 0
      },
      "text/plain": [
       "test 7 epoch:   0%|          | 0/10000 [00:00<?, ?it/s]"
      ]
     },
     "metadata": {},
     "output_type": "display_data"
    },
    {
     "name": "stdout",
     "output_type": "stream",
     "text": [
      "Epoch 7'st: train_loss = 0.12468, test_loss = 0.33398, accuracy = 0.9074, lr = 0.001\n"
     ]
    },
    {
     "data": {
      "application/vnd.jupyter.widget-view+json": {
       "model_id": "fca7c3e874b54b55abd0333a5b25b986",
       "version_major": 2,
       "version_minor": 0
      },
      "text/plain": [
       "train 8 epoch:   0%|          | 0/1875 [00:00<?, ?it/s]"
      ]
     },
     "metadata": {},
     "output_type": "display_data"
    },
    {
     "data": {
      "application/vnd.jupyter.widget-view+json": {
       "model_id": "99019833592f4210b674ba86199c9ccc",
       "version_major": 2,
       "version_minor": 0
      },
      "text/plain": [
       "test 8 epoch:   0%|          | 0/10000 [00:00<?, ?it/s]"
      ]
     },
     "metadata": {},
     "output_type": "display_data"
    },
    {
     "name": "stdout",
     "output_type": "stream",
     "text": [
      "Epoch 8'st: train_loss = 0.12118, test_loss = 0.33116, accuracy = 0.9108, lr = 0.001\n"
     ]
    },
    {
     "data": {
      "application/vnd.jupyter.widget-view+json": {
       "model_id": "9d4573c1448b4e0e8a673bd1fd521bf6",
       "version_major": 2,
       "version_minor": 0
      },
      "text/plain": [
       "train 9 epoch:   0%|          | 0/1875 [00:00<?, ?it/s]"
      ]
     },
     "metadata": {},
     "output_type": "display_data"
    },
    {
     "data": {
      "application/vnd.jupyter.widget-view+json": {
       "model_id": "c188d925d8c24d59b8e88f4f76818759",
       "version_major": 2,
       "version_minor": 0
      },
      "text/plain": [
       "test 9 epoch:   0%|          | 0/10000 [00:00<?, ?it/s]"
      ]
     },
     "metadata": {},
     "output_type": "display_data"
    },
    {
     "name": "stdout",
     "output_type": "stream",
     "text": [
      "Epoch 9'st: train_loss = 0.11463, test_loss = 0.34458, accuracy = 0.9114, lr = 0.001\n"
     ]
    },
    {
     "data": {
      "application/vnd.jupyter.widget-view+json": {
       "model_id": "8f34050a6b814c9d904bb72679bdfa81",
       "version_major": 2,
       "version_minor": 0
      },
      "text/plain": [
       "train 10 epoch:   0%|          | 0/1875 [00:00<?, ?it/s]"
      ]
     },
     "metadata": {},
     "output_type": "display_data"
    },
    {
     "data": {
      "application/vnd.jupyter.widget-view+json": {
       "model_id": "a40f3e64c50346baa5606c9911918837",
       "version_major": 2,
       "version_minor": 0
      },
      "text/plain": [
       "test 10 epoch:   0%|          | 0/10000 [00:00<?, ?it/s]"
      ]
     },
     "metadata": {},
     "output_type": "display_data"
    },
    {
     "name": "stdout",
     "output_type": "stream",
     "text": [
      "Epoch 10'st: train_loss = 0.11037, test_loss = 0.35166, accuracy = 0.9098, lr = 0.0005\n"
     ]
    },
    {
     "data": {
      "application/vnd.jupyter.widget-view+json": {
       "model_id": "6da9b03cf9344dc5a749259bbe2e3d62",
       "version_major": 2,
       "version_minor": 0
      },
      "text/plain": [
       "train 11 epoch:   0%|          | 0/1875 [00:00<?, ?it/s]"
      ]
     },
     "metadata": {},
     "output_type": "display_data"
    },
    {
     "data": {
      "application/vnd.jupyter.widget-view+json": {
       "model_id": "d82b55c3e17c4ad6abedd6717dc1fc7f",
       "version_major": 2,
       "version_minor": 0
      },
      "text/plain": [
       "test 11 epoch:   0%|          | 0/10000 [00:00<?, ?it/s]"
      ]
     },
     "metadata": {},
     "output_type": "display_data"
    },
    {
     "name": "stdout",
     "output_type": "stream",
     "text": [
      "Epoch 11'st: train_loss = 0.07174, test_loss = 0.37991, accuracy = 0.9125, lr = 0.0005\n"
     ]
    },
    {
     "data": {
      "application/vnd.jupyter.widget-view+json": {
       "model_id": "f344a603d2604b03a8b761844a45fe1d",
       "version_major": 2,
       "version_minor": 0
      },
      "text/plain": [
       "train 12 epoch:   0%|          | 0/1875 [00:00<?, ?it/s]"
      ]
     },
     "metadata": {},
     "output_type": "display_data"
    },
    {
     "data": {
      "application/vnd.jupyter.widget-view+json": {
       "model_id": "980a07495879487ea9d1609e79a2ac8b",
       "version_major": 2,
       "version_minor": 0
      },
      "text/plain": [
       "test 12 epoch:   0%|          | 0/10000 [00:00<?, ?it/s]"
      ]
     },
     "metadata": {},
     "output_type": "display_data"
    },
    {
     "name": "stdout",
     "output_type": "stream",
     "text": [
      "Epoch 12'st: train_loss = 0.06239, test_loss = 0.38629, accuracy = 0.9121, lr = 0.0005\n"
     ]
    },
    {
     "data": {
      "application/vnd.jupyter.widget-view+json": {
       "model_id": "a076f178ab974540b9c31005f8804c90",
       "version_major": 2,
       "version_minor": 0
      },
      "text/plain": [
       "train 13 epoch:   0%|          | 0/1875 [00:00<?, ?it/s]"
      ]
     },
     "metadata": {},
     "output_type": "display_data"
    },
    {
     "data": {
      "application/vnd.jupyter.widget-view+json": {
       "model_id": "52c8270656974e07b528523fa2c95cf7",
       "version_major": 2,
       "version_minor": 0
      },
      "text/plain": [
       "test 13 epoch:   0%|          | 0/10000 [00:00<?, ?it/s]"
      ]
     },
     "metadata": {},
     "output_type": "display_data"
    },
    {
     "name": "stdout",
     "output_type": "stream",
     "text": [
      "Epoch 13'st: train_loss = 0.05745, test_loss = 0.41879, accuracy = 0.912, lr = 0.0005\n"
     ]
    },
    {
     "data": {
      "application/vnd.jupyter.widget-view+json": {
       "model_id": "4031e1a530024c53add56a6874a36147",
       "version_major": 2,
       "version_minor": 0
      },
      "text/plain": [
       "train 14 epoch:   0%|          | 0/1875 [00:00<?, ?it/s]"
      ]
     },
     "metadata": {},
     "output_type": "display_data"
    },
    {
     "data": {
      "application/vnd.jupyter.widget-view+json": {
       "model_id": "66b4dc6592514f61a0bf10e8481cc4ee",
       "version_major": 2,
       "version_minor": 0
      },
      "text/plain": [
       "test 14 epoch:   0%|          | 0/10000 [00:00<?, ?it/s]"
      ]
     },
     "metadata": {},
     "output_type": "display_data"
    },
    {
     "name": "stdout",
     "output_type": "stream",
     "text": [
      "Epoch 14'st: train_loss = 0.05432, test_loss = 0.44198, accuracy = 0.9096, lr = 0.0005\n"
     ]
    },
    {
     "data": {
      "application/vnd.jupyter.widget-view+json": {
       "model_id": "85073a5281c24ce9ab3dcef911a2d996",
       "version_major": 2,
       "version_minor": 0
      },
      "text/plain": [
       "train 15 epoch:   0%|          | 0/1875 [00:00<?, ?it/s]"
      ]
     },
     "metadata": {},
     "output_type": "display_data"
    },
    {
     "data": {
      "application/vnd.jupyter.widget-view+json": {
       "model_id": "c7dc8f91db104e1bb7b79bbc713b43a4",
       "version_major": 2,
       "version_minor": 0
      },
      "text/plain": [
       "test 15 epoch:   0%|          | 0/10000 [00:00<?, ?it/s]"
      ]
     },
     "metadata": {},
     "output_type": "display_data"
    },
    {
     "name": "stdout",
     "output_type": "stream",
     "text": [
      "Epoch 15'st: train_loss = 0.04976, test_loss = 0.46832, accuracy = 0.9085, lr = 0.0005\n"
     ]
    }
   ],
   "source": [
    "epochs = 15\n",
    "loss_func = nn.CrossEntropyLoss()\n",
    "opt = optim.Adam(model.parameters())\n",
    "opt = optim.Adam(model.parameters(), lr=0.001)\n",
    "scheduler = lr_scheduler.MultiStepLR(opt, milestones=[10], gamma=0.5)\n",
    "# scheduler = lr_scheduler.MultiStepLR(opt, milestones=[15, 25, 32], gamma=0.5)\n",
    "\n",
    "hist = fit(model, loss_func, opt, train_loader, test_loader, epochs, scheduler)"
   ]
  },
  {
   "cell_type": "markdown",
   "id": "611c8028-5872-4436-9bf0-383a90da30d0",
   "metadata": {},
   "source": [
    "#### Plots"
   ]
  },
  {
   "cell_type": "code",
   "execution_count": 12,
   "id": "0f3bfcaf-fcc4-4836-bde3-415bc0a422ad",
   "metadata": {},
   "outputs": [
    {
     "data": {
      "image/png": "[encoded data removed]",
      "text/plain": [
       "<Figure size 1500x400 with 2 Axes>"
      ]
     },
     "metadata": {},
     "output_type": "display_data"
    }
   ],
   "source": [
    "fig, ax = plt.subplots(ncols=2, figsize=(15, 4))\n",
    "x = range(epochs)\n",
    "sns.lineplot(x=x, y=hist[0], label='train_loss', ax=ax[0])\n",
    "sns.lineplot(x=x, y=hist[1], label='test_loss', ax=ax[0])\n",
    "\n",
    "sns.lineplot(x=x, y=hist[2], label='accuracy', ax=ax[1])\n",
    "\n",
    "ax[0].set_title('VGG8 Custom')\n",
    "ax[0].set_xticks(range(epochs+1))\n",
    "ax[1].set_xticks(range(epochs+1))\n",
    "plt.legend()\n",
    "plt.show()"
   ]
  },
  {
   "cell_type": "markdown",
   "id": "18463860-3d44-4c9b-a718-cb523a643d5e",
   "metadata": {},
   "source": [
    "#### Eval"
   ]
  },
  {
   "cell_type": "markdown",
   "id": "15886c43-7a8c-4dde-b6fc-2ccfab815c6c",
   "metadata": {},
   "source": [
    "Epoch 35'st: train_loss = 0.00034, test_loss = 0.64219, accuracy = 0.9298, lr = 0.000125\n",
    "\\\\\\\n",
    "Epoch 10'st: train_loss = 0.04837, test_loss = 0.27794, accuracy = 0.9255, lr = 0.0005\n",
    "\\\\\\\n",
    "Epoch 15'st: train_loss = 0.22505, test_loss = 0.24879, accuracy = 0.9086, lr = 0.0005"
   ]
  },
  {
   "cell_type": "code",
   "execution_count": 123,
   "id": "bd74a89d-36ef-4eac-b665-b4506e582437",
   "metadata": {},
   "outputs": [],
   "source": [
    "model_state_dict = model.state_dict()\n",
    "torch.save(model_state_dict, 'models/f_mnist.pth')"
   ]
  }
 ],
 "metadata": {
  "kernelspec": {
   "display_name": "Python 3 (ipykernel)",
   "language": "python",
   "name": "python3"
  },
  "language_info": {
   "codemirror_mode": {
    "name": "ipython",
    "version": 3
   },
   "file_extension": ".py",
   "mimetype": "text/x-python",
   "name": "python",
   "nbconvert_exporter": "python",
   "pygments_lexer": "ipython3",
   "version": "3.8.17"
  }
 },
 "nbformat": 4,
 "nbformat_minor": 5
}
