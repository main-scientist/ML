{
 "cells": [
  {
   "cell_type": "code",
   "execution_count": 1,
   "id": "309cc0ae-2983-417c-9559-3cdd8119abf0",
   "metadata": {},
   "outputs": [],
   "source": [
    "import numpy as np\n",
    "import pandas as pd\n",
    "import matplotlib.pyplot as plt\n",
    "import seaborn as sns\n",
    "from tqdm.notebook import tqdm\n",
    "\n",
    "from sklearn.tree import DecisionTreeRegressor\n",
    "from sklearn.datasets import fetch_california_housing\n",
    "from sklearn.model_selection import train_test_split\n",
    "from sklearn.preprocessing import StandardScaler\n",
    "from sklearn.metrics import mean_squared_error\n",
    "\n",
    "sns.set(style=\"darkgrid\")"
   ]
  },
  {
   "cell_type": "code",
   "execution_count": 2,
   "id": "016cf6d3-a960-4158-aae9-e30e9da4512f",
   "metadata": {},
   "outputs": [],
   "source": [
    "# df = fetch_california_housing(as_frame=True).frame\n",
    "# print(df.shape)\n",
    "# df.head()\n",
    "\n",
    "df_train = pd.read_csv(\"../data/dataset/train.csv\")\n",
    "df_test = pd.read_csv(\"../data/dataset/test.csv\")\n",
    "df_train = df_train.drop(\"id\", axis=1)\n",
    "df_test = df_test.drop(\"id\", axis=1)"
   ]
  },
  {
   "cell_type": "code",
   "execution_count": 3,
   "id": "2c4f401e-53d2-43df-9ed7-aa04c290f9bf",
   "metadata": {},
   "outputs": [
    {
     "name": "stdout",
     "output_type": "stream",
     "text": [
      "(37137, 9)\n"
     ]
    },
    {
     "data": {
      "text/html": [
       "<div>\n",
       "<style scoped>\n",
       "    .dataframe tbody tr th:only-of-type {\n",
       "        vertical-align: middle;\n",
       "    }\n",
       "\n",
       "    .dataframe tbody tr th {\n",
       "        vertical-align: top;\n",
       "    }\n",
       "\n",
       "    .dataframe thead th {\n",
       "        text-align: right;\n",
       "    }\n",
       "</style>\n",
       "<table border=\"1\" class=\"dataframe\">\n",
       "  <thead>\n",
       "    <tr style=\"text-align: right;\">\n",
       "      <th></th>\n",
       "      <th>MedInc</th>\n",
       "      <th>HouseAge</th>\n",
       "      <th>AveRooms</th>\n",
       "      <th>AveBedrms</th>\n",
       "      <th>Population</th>\n",
       "      <th>AveOccup</th>\n",
       "      <th>Latitude</th>\n",
       "      <th>Longitude</th>\n",
       "      <th>MedHouseVal</th>\n",
       "    </tr>\n",
       "  </thead>\n",
       "  <tbody>\n",
       "    <tr>\n",
       "      <th>0</th>\n",
       "      <td>2.3859</td>\n",
       "      <td>15.0</td>\n",
       "      <td>3.827160</td>\n",
       "      <td>1.112100</td>\n",
       "      <td>1280.0</td>\n",
       "      <td>2.486989</td>\n",
       "      <td>34.60</td>\n",
       "      <td>-120.12</td>\n",
       "      <td>0.980</td>\n",
       "    </tr>\n",
       "    <tr>\n",
       "      <th>1</th>\n",
       "      <td>3.7188</td>\n",
       "      <td>17.0</td>\n",
       "      <td>6.013373</td>\n",
       "      <td>1.054217</td>\n",
       "      <td>1504.0</td>\n",
       "      <td>3.813084</td>\n",
       "      <td>38.69</td>\n",
       "      <td>-121.22</td>\n",
       "      <td>0.946</td>\n",
       "    </tr>\n",
       "    <tr>\n",
       "      <th>2</th>\n",
       "      <td>4.7750</td>\n",
       "      <td>27.0</td>\n",
       "      <td>6.535604</td>\n",
       "      <td>1.103175</td>\n",
       "      <td>1061.0</td>\n",
       "      <td>2.464602</td>\n",
       "      <td>34.71</td>\n",
       "      <td>-120.45</td>\n",
       "      <td>1.576</td>\n",
       "    </tr>\n",
       "    <tr>\n",
       "      <th>3</th>\n",
       "      <td>2.4138</td>\n",
       "      <td>16.0</td>\n",
       "      <td>3.350203</td>\n",
       "      <td>0.965432</td>\n",
       "      <td>1255.0</td>\n",
       "      <td>2.089286</td>\n",
       "      <td>32.66</td>\n",
       "      <td>-117.09</td>\n",
       "      <td>1.336</td>\n",
       "    </tr>\n",
       "    <tr>\n",
       "      <th>4</th>\n",
       "      <td>3.7500</td>\n",
       "      <td>52.0</td>\n",
       "      <td>4.284404</td>\n",
       "      <td>1.069246</td>\n",
       "      <td>1793.0</td>\n",
       "      <td>1.604790</td>\n",
       "      <td>37.80</td>\n",
       "      <td>-122.41</td>\n",
       "      <td>4.500</td>\n",
       "    </tr>\n",
       "  </tbody>\n",
       "</table>\n",
       "</div>"
      ],
      "text/plain": [
       "   MedInc  HouseAge  AveRooms  AveBedrms  Population  AveOccup  Latitude  \\\n",
       "0  2.3859      15.0  3.827160   1.112100      1280.0  2.486989     34.60   \n",
       "1  3.7188      17.0  6.013373   1.054217      1504.0  3.813084     38.69   \n",
       "2  4.7750      27.0  6.535604   1.103175      1061.0  2.464602     34.71   \n",
       "3  2.4138      16.0  3.350203   0.965432      1255.0  2.089286     32.66   \n",
       "4  3.7500      52.0  4.284404   1.069246      1793.0  1.604790     37.80   \n",
       "\n",
       "   Longitude  MedHouseVal  \n",
       "0    -120.12        0.980  \n",
       "1    -121.22        0.946  \n",
       "2    -120.45        1.576  \n",
       "3    -117.09        1.336  \n",
       "4    -122.41        4.500  "
      ]
     },
     "execution_count": 3,
     "metadata": {},
     "output_type": "execute_result"
    }
   ],
   "source": [
    "print(df_train.shape)\n",
    "df_train.head()"
   ]
  },
  {
   "cell_type": "code",
   "execution_count": 4,
   "id": "6e466a60-dd57-4741-8981-ec8483d33ce6",
   "metadata": {},
   "outputs": [
    {
     "name": "stdout",
     "output_type": "stream",
     "text": [
      "(24759, 8)\n"
     ]
    },
    {
     "data": {
      "text/html": [
       "<div>\n",
       "<style scoped>\n",
       "    .dataframe tbody tr th:only-of-type {\n",
       "        vertical-align: middle;\n",
       "    }\n",
       "\n",
       "    .dataframe tbody tr th {\n",
       "        vertical-align: top;\n",
       "    }\n",
       "\n",
       "    .dataframe thead th {\n",
       "        text-align: right;\n",
       "    }\n",
       "</style>\n",
       "<table border=\"1\" class=\"dataframe\">\n",
       "  <thead>\n",
       "    <tr style=\"text-align: right;\">\n",
       "      <th></th>\n",
       "      <th>MedInc</th>\n",
       "      <th>HouseAge</th>\n",
       "      <th>AveRooms</th>\n",
       "      <th>AveBedrms</th>\n",
       "      <th>Population</th>\n",
       "      <th>AveOccup</th>\n",
       "      <th>Latitude</th>\n",
       "      <th>Longitude</th>\n",
       "    </tr>\n",
       "  </thead>\n",
       "  <tbody>\n",
       "    <tr>\n",
       "      <th>0</th>\n",
       "      <td>1.7062</td>\n",
       "      <td>35.0</td>\n",
       "      <td>4.966368</td>\n",
       "      <td>1.096539</td>\n",
       "      <td>1318.0</td>\n",
       "      <td>2.844411</td>\n",
       "      <td>39.75</td>\n",
       "      <td>-121.85</td>\n",
       "    </tr>\n",
       "    <tr>\n",
       "      <th>1</th>\n",
       "      <td>1.3882</td>\n",
       "      <td>22.0</td>\n",
       "      <td>4.187035</td>\n",
       "      <td>1.098229</td>\n",
       "      <td>2296.0</td>\n",
       "      <td>3.180218</td>\n",
       "      <td>33.95</td>\n",
       "      <td>-118.29</td>\n",
       "    </tr>\n",
       "    <tr>\n",
       "      <th>2</th>\n",
       "      <td>7.7197</td>\n",
       "      <td>21.0</td>\n",
       "      <td>7.129436</td>\n",
       "      <td>0.959276</td>\n",
       "      <td>1535.0</td>\n",
       "      <td>2.888889</td>\n",
       "      <td>33.61</td>\n",
       "      <td>-117.81</td>\n",
       "    </tr>\n",
       "    <tr>\n",
       "      <th>3</th>\n",
       "      <td>4.6806</td>\n",
       "      <td>49.0</td>\n",
       "      <td>4.769697</td>\n",
       "      <td>1.048485</td>\n",
       "      <td>707.0</td>\n",
       "      <td>1.743590</td>\n",
       "      <td>34.17</td>\n",
       "      <td>-118.34</td>\n",
       "    </tr>\n",
       "    <tr>\n",
       "      <th>4</th>\n",
       "      <td>3.1284</td>\n",
       "      <td>25.0</td>\n",
       "      <td>3.765306</td>\n",
       "      <td>1.081633</td>\n",
       "      <td>4716.0</td>\n",
       "      <td>2.003827</td>\n",
       "      <td>34.17</td>\n",
       "      <td>-118.29</td>\n",
       "    </tr>\n",
       "  </tbody>\n",
       "</table>\n",
       "</div>"
      ],
      "text/plain": [
       "   MedInc  HouseAge  AveRooms  AveBedrms  Population  AveOccup  Latitude  \\\n",
       "0  1.7062      35.0  4.966368   1.096539      1318.0  2.844411     39.75   \n",
       "1  1.3882      22.0  4.187035   1.098229      2296.0  3.180218     33.95   \n",
       "2  7.7197      21.0  7.129436   0.959276      1535.0  2.888889     33.61   \n",
       "3  4.6806      49.0  4.769697   1.048485       707.0  1.743590     34.17   \n",
       "4  3.1284      25.0  3.765306   1.081633      4716.0  2.003827     34.17   \n",
       "\n",
       "   Longitude  \n",
       "0    -121.85  \n",
       "1    -118.29  \n",
       "2    -117.81  \n",
       "3    -118.34  \n",
       "4    -118.29  "
      ]
     },
     "execution_count": 4,
     "metadata": {},
     "output_type": "execute_result"
    }
   ],
   "source": [
    "print(df_test.shape)\n",
    "df_test.head()"
   ]
  },
  {
   "cell_type": "code",
   "execution_count": 5,
   "id": "79235f93-1388-4378-a62c-c9bdc49b0f52",
   "metadata": {},
   "outputs": [
    {
     "data": {
      "image/png": "[encoded data removed]",
      "text/plain": [
       "<Figure size 800x400 with 1 Axes>"
      ]
     },
     "metadata": {},
     "output_type": "display_data"
    }
   ],
   "source": [
    "fig = plt.figure(figsize=(8, 4))\n",
    "sns.histplot(df_train[\"MedHouseVal\"])\n",
    "plt.show()"
   ]
  },
  {
   "cell_type": "code",
   "execution_count": 6,
   "id": "b2dfea5e-c6c0-4871-a775-f09b351a89cc",
   "metadata": {},
   "outputs": [],
   "source": [
    "scaler = StandardScaler()\n",
    "scaler.fit(df_train.drop(\"MedHouseVal\", axis=1).values)\n",
    "df_X = pd.DataFrame(scaler.transform(df_train.drop(\"MedHouseVal\", axis=1).values))\n",
    "df_y = df_train[\"MedHouseVal\"]\n",
    "X_test = pd.DataFrame(scaler.transform(df_test.values))"
   ]
  },
  {
   "cell_type": "code",
   "execution_count": 7,
   "id": "b058cc68-1ec2-4ed4-9f15-b4733e1320bd",
   "metadata": {},
   "outputs": [],
   "source": [
    "X_train, X_val, y_train, y_val = train_test_split(df_X, df_y, test_size=0.2, random_state=0, shuffle=True)"
   ]
  },
  {
   "cell_type": "code",
   "execution_count": 79,
   "id": "928f0962-9db8-4ae9-9498-b07f1778326a",
   "metadata": {},
   "outputs": [],
   "source": [
    "def overfitting(model, X_train, y_train, X_val, y_val):\n",
    "    mse_train = mean_squared_error(y_train, model.predict(X_train))\n",
    "    mse_val = mean_squared_error(y_val, model.predict(X_val))\n",
    "    print(f'MSE train: {mse_train}')\n",
    "    print(f'MSE test: {mse_val}')\n",
    "    return"
   ]
  },
  {
   "cell_type": "markdown",
   "id": "c057e7fe-898f-44a4-ba79-dd5606d290bf",
   "metadata": {},
   "source": [
    "#### model Gradient Boosting"
   ]
  },
  {
   "cell_type": "code",
   "execution_count": 131,
   "id": "0a637800-ea5b-4339-93ad-253f4fc3c7e9",
   "metadata": {},
   "outputs": [],
   "source": [
    "class my_Gradient_Boosting():\n",
    "    def __init__(self, n_estimators, max_depth, lr, random_state=0):\n",
    "        self.n_estimators = n_estimators\n",
    "        self.lr = lr\n",
    "        self.learning_rates = [self.lr for i in range(1, self.n_estimators+1)]\n",
    "        self.trees = [DecisionTreeRegressor(\n",
    "            max_depth=max_depth, \n",
    "            random_state=random_state) for _ in range(n_estimators)]\n",
    "\n",
    "    def fit(self, X_train, y_train):\n",
    "        hist_mse = []\n",
    "        y_pred = 0\n",
    "        for i in tqdm(range(self.n_estimators)):\n",
    "            residual = y_train - y_pred\n",
    "            self.trees[i].fit(X_train, residual)\n",
    "            y_pred += self.learning_rates[i] * self.trees[i].predict(X_train)\n",
    "            hist_mse.append(mean_squared_error(y_train, y_pred))\n",
    "        return hist_mse\n",
    "\n",
    "    def predict(self, X_test):\n",
    "        y_pred= np.sum([self.learning_rates[i] * tree.predict(X_test) \n",
    "                        for i, tree in enumerate(self.trees)], axis=0)\n",
    "        return y_pred"
   ]
  },
  {
   "cell_type": "code",
   "execution_count": 139,
   "id": "e2e788e6-4965-4304-bfd2-47f971002e2d",
   "metadata": {},
   "outputs": [
    {
     "data": {
      "application/vnd.jupyter.widget-view+json": {
       "model_id": "65b40cb05da6490bab6b9159098f4da4",
       "version_major": 2,
       "version_minor": 0
      },
      "text/plain": [
       "  0%|          | 0/4000 [00:00<?, ?it/s]"
      ]
     },
     "metadata": {},
     "output_type": "display_data"
    }
   ],
   "source": [
    "gb = my_Gradient_Boosting(n_estimators=4000, max_depth=4, lr=2e-3)\n",
    "# hist_mse = gb.fit(X_train, y_train)\n",
    "hist_mse = gb.fit(df_X, df_y)\n",
    "# overfitting(gb, X_train, y_train, X_val, y_val)\n",
    "\n",
    "# fig = plt.figure(figsize=(10, 4))\n",
    "# sns.lineplot(x=range(len(hist_mse)), y=hist_mse)\n",
    "# plt.show()"
   ]
  },
  {
   "cell_type": "code",
   "execution_count": null,
   "id": "ea131684-8fc1-4dfb-9916-bb9302a76c27",
   "metadata": {},
   "outputs": [],
   "source": [
    "n_estimators=4000, max_depth=4, lr=2e-3\n",
    "MSE train: 0.32741440285898077\n",
    "MSE test: 0.3482191052478089"
   ]
  },
  {
   "cell_type": "markdown",
   "id": "09fd23b6-0a46-492e-8194-1ae4c4e5ded7",
   "metadata": {
    "jp-MarkdownHeadingCollapsed": true
   },
   "source": [
    "#### Eval Models"
   ]
  },
  {
   "cell_type": "code",
   "execution_count": 40,
   "id": "a747a3aa-798d-4d79-835e-e936a49e773f",
   "metadata": {},
   "outputs": [
    {
     "data": {
      "application/vnd.jupyter.widget-view+json": {
       "model_id": "c9966390c4784cbc848c9e6d8809b95e",
       "version_major": 2,
       "version_minor": 0
      },
      "text/plain": [
       "  0%|          | 0/100 [00:00<?, ?it/s]"
      ]
     },
     "metadata": {},
     "output_type": "display_data"
    },
    {
     "name": "stdout",
     "output_type": "stream",
     "text": [
      "MSE train: 0.4383455857643497\n",
      "MSE test: 0.4692658855102761\n"
     ]
    }
   ],
   "source": [
    "gb = Gradient_Boosting(n_estimators=100, lr=1e-2, depth_tree=7, gamma=0)\n",
    "gb.fit(X_train, y_train)\n",
    "# gb.fit(df_X, df_y)\n",
    "overfitting(gb, X_train, y_train, X_val, y_val)"
   ]
  },
  {
   "cell_type": "code",
   "execution_count": 31,
   "id": "936874e9-cfca-4f27-8feb-05c128b9021c",
   "metadata": {},
   "outputs": [
    {
     "data": {
      "text/plain": [
       "0.5308893517341526"
      ]
     },
     "execution_count": 31,
     "metadata": {},
     "output_type": "execute_result"
    }
   ],
   "source": [
    "from sklearn.linear_model import LinearRegression\n",
    "linear_model = LinearRegression()\n",
    "linear_model.fit(X_train, y_train)\n",
    "y_pred = linear_model.predict(X_val)\n",
    "mse = mean_squared_error(y_val, y_pred)\n",
    "mse"
   ]
  },
  {
   "cell_type": "code",
   "execution_count": 33,
   "id": "a0c97f2d-e6f2-47a4-8f36-50bfa0e184bd",
   "metadata": {},
   "outputs": [
    {
     "name": "stdout",
     "output_type": "stream",
     "text": [
      "MSE train: 0.5033344034551784\n",
      "MSE test: 0.534898624950666\n"
     ]
    }
   ],
   "source": [
    "from sklearn.ensemble import GradientBoostingRegressor\n",
    "sgb = GradientBoostingRegressor(n_estimators=100,\n",
    "                               learning_rate=1e-2,\n",
    "                               max_depth=7)\n",
    "sgb.fit(X_train, y_train)\n",
    "# sgb.fit(df_X, df_y)\n",
    "overfitting(sgb, X_train, y_train, X_val, y_val)"
   ]
  },
  {
   "cell_type": "code",
   "execution_count": 41,
   "id": "5649e6af-453b-4953-ba5f-4efac798efee",
   "metadata": {},
   "outputs": [
    {
     "name": "stdout",
     "output_type": "stream",
     "text": [
      "Learning rate set to 0.072478\n",
      "0:\tlearn: 1.1116143\ttotal: 2.78ms\tremaining: 2.78s\n",
      "200:\tlearn: 0.5640198\ttotal: 391ms\tremaining: 1.55s\n",
      "400:\tlearn: 0.5379969\ttotal: 775ms\tremaining: 1.16s\n",
      "600:\tlearn: 0.5214023\ttotal: 1.15s\tremaining: 766ms\n",
      "800:\tlearn: 0.5078628\ttotal: 1.53s\tremaining: 381ms\n",
      "999:\tlearn: 0.4959660\ttotal: 1.92s\tremaining: 0us\n",
      "MSE train: 0.24532719652584\n",
      "MSE test: 0.24860218283158467\n"
     ]
    }
   ],
   "source": [
    "from catboost import CatBoostRegressor\n",
    "cgb = CatBoostRegressor(metric_period=200, \n",
    "                        n_estimators=1000)\n",
    "cgb.fit(X_train, y_train)\n",
    "# cgb.fit(df_X, df_y)\n",
    "overfitting(cgb, X_train, y_train, X_val, y_val)"
   ]
  },
  {
   "cell_type": "markdown",
   "id": "8075d868-c9da-483c-9c81-7f5351f1eacd",
   "metadata": {},
   "source": [
    "#### Predict Test"
   ]
  },
  {
   "cell_type": "code",
   "execution_count": 140,
   "id": "08d3182e-088c-4bb3-95e9-2efd6bbb9215",
   "metadata": {},
   "outputs": [],
   "source": [
    "def predict_test(model, X_test):\n",
    "    y_pred = model.predict(X_test)\n",
    "    return y_pred"
   ]
  },
  {
   "cell_type": "code",
   "execution_count": 141,
   "id": "018d5cd4-263d-4e79-aed4-5e7eec28b1d8",
   "metadata": {},
   "outputs": [],
   "source": [
    "df_ans = pd.read_csv(\"../data/dataset/sample_submission.csv\")\n",
    "df_ans[\"MedHouseVal\"] = predict_test(gb, X_test)\n",
    "df_ans.to_csv(\"ans_4.csv\", index=False)"
   ]
  }
 ],
 "metadata": {
  "kernelspec": {
   "display_name": "Python 3 (ipykernel)",
   "language": "python",
   "name": "python3"
  },
  "language_info": {
   "codemirror_mode": {
    "name": "ipython",
    "version": 3
   },
   "file_extension": ".py",
   "mimetype": "text/x-python",
   "name": "python",
   "nbconvert_exporter": "python",
   "pygments_lexer": "ipython3",
   "version": "3.8.17"
  }
 },
 "nbformat": 4,
 "nbformat_minor": 5
}
